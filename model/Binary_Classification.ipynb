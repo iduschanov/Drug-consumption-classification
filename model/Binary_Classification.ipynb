{
 "cells": [
  {
   "cell_type": "markdown",
   "metadata": {
    "id": "DIJf9R4U_-_e"
   },
   "source": [
    "Для сведения к бинарной классификации можно разбить на два класса: Никогда не использовавшиеся и использовавшиеся более десяти лет назад помещаются в класс, а все остальные в другую.\n",
    "\n",
    "\n",
    "\n"
   ]
  },
  {
   "cell_type": "code",
   "execution_count": 69,
   "metadata": {
    "id": "2jHQaVGEXqN7"
   },
   "outputs": [],
   "source": [
    "# импортируем нужные нам библиотеки\n",
    "import numpy as np\n",
    "import pandas as pd\n",
    "from sklearn.model_selection import train_test_split, cross_val_score\n",
    "from sklearn.metrics import roc_auc_score, log_loss\n",
    "\n",
    "from sklearn.ensemble import RandomForestClassifier\n",
    "from sklearn.tree import DecisionTreeClassifier\n",
    "from sklearn.ensemble import GradientBoostingClassifier\n",
    "from lightgbm import LGBMClassifier \n",
    "from catboost import CatBoostClassifier \n",
    "from sklearn.pipeline import Pipeline\n",
    "\n",
    "from model import model_grid, forest_importances\n",
    "from graphs import plot_confusion_matrix"
   ]
  },
  {
   "cell_type": "code",
   "execution_count": 30,
   "metadata": {
    "id": "CJrdKouqQ40G"
   },
   "outputs": [],
   "source": [
    "df = pd.read_csv('../data/data_preprocessed.csv')"
   ]
  },
  {
   "cell_type": "code",
   "execution_count": 31,
   "metadata": {
    "colab": {
     "base_uri": "https://localhost:8080/",
     "height": 270
    },
    "id": "smZZUu_7A8XD",
    "outputId": "09649702-26bf-4d00-b7d7-1781779e9123"
   },
   "outputs": [
    {
     "data": {
      "text/html": [
       "<div>\n",
       "<style scoped>\n",
       "    .dataframe tbody tr th:only-of-type {\n",
       "        vertical-align: middle;\n",
       "    }\n",
       "\n",
       "    .dataframe tbody tr th {\n",
       "        vertical-align: top;\n",
       "    }\n",
       "\n",
       "    .dataframe thead th {\n",
       "        text-align: right;\n",
       "    }\n",
       "</style>\n",
       "<table border=\"1\" class=\"dataframe\">\n",
       "  <thead>\n",
       "    <tr style=\"text-align: right;\">\n",
       "      <th></th>\n",
       "      <th>Age</th>\n",
       "      <th>Gender</th>\n",
       "      <th>Educ</th>\n",
       "      <th>Cntry</th>\n",
       "      <th>Ethn</th>\n",
       "      <th>NS</th>\n",
       "      <th>ES</th>\n",
       "      <th>OS</th>\n",
       "      <th>AS</th>\n",
       "      <th>CS</th>\n",
       "      <th>...</th>\n",
       "      <th>Ecstasy</th>\n",
       "      <th>Heroin</th>\n",
       "      <th>Ketamine</th>\n",
       "      <th>LegalH</th>\n",
       "      <th>LSD</th>\n",
       "      <th>Meth</th>\n",
       "      <th>Shrooms</th>\n",
       "      <th>Nicotine</th>\n",
       "      <th>Semer</th>\n",
       "      <th>VSA</th>\n",
       "    </tr>\n",
       "  </thead>\n",
       "  <tbody>\n",
       "    <tr>\n",
       "      <th>1880</th>\n",
       "      <td>18-24</td>\n",
       "      <td>0</td>\n",
       "      <td>Left schl at 17</td>\n",
       "      <td>USA</td>\n",
       "      <td>White</td>\n",
       "      <td>-1.19430</td>\n",
       "      <td>1.74091</td>\n",
       "      <td>1.88511</td>\n",
       "      <td>0.76096</td>\n",
       "      <td>-1.13788</td>\n",
       "      <td>...</td>\n",
       "      <td>CL0</td>\n",
       "      <td>CL0</td>\n",
       "      <td>CL0</td>\n",
       "      <td>CL3</td>\n",
       "      <td>CL3</td>\n",
       "      <td>CL0</td>\n",
       "      <td>CL0</td>\n",
       "      <td>CL0</td>\n",
       "      <td>CL0</td>\n",
       "      <td>CL5</td>\n",
       "    </tr>\n",
       "    <tr>\n",
       "      <th>1881</th>\n",
       "      <td>18-24</td>\n",
       "      <td>1</td>\n",
       "      <td>Left schl at 17</td>\n",
       "      <td>USA</td>\n",
       "      <td>White</td>\n",
       "      <td>-0.24649</td>\n",
       "      <td>1.74091</td>\n",
       "      <td>0.58331</td>\n",
       "      <td>0.76096</td>\n",
       "      <td>-1.51840</td>\n",
       "      <td>...</td>\n",
       "      <td>CL2</td>\n",
       "      <td>CL0</td>\n",
       "      <td>CL0</td>\n",
       "      <td>CL3</td>\n",
       "      <td>CL5</td>\n",
       "      <td>CL4</td>\n",
       "      <td>CL4</td>\n",
       "      <td>CL5</td>\n",
       "      <td>CL0</td>\n",
       "      <td>CL0</td>\n",
       "    </tr>\n",
       "    <tr>\n",
       "      <th>1882</th>\n",
       "      <td>25-34</td>\n",
       "      <td>0</td>\n",
       "      <td>univ degree</td>\n",
       "      <td>USA</td>\n",
       "      <td>White</td>\n",
       "      <td>1.13281</td>\n",
       "      <td>-1.37639</td>\n",
       "      <td>-1.27553</td>\n",
       "      <td>-1.77200</td>\n",
       "      <td>-1.38502</td>\n",
       "      <td>...</td>\n",
       "      <td>CL4</td>\n",
       "      <td>CL0</td>\n",
       "      <td>CL2</td>\n",
       "      <td>CL0</td>\n",
       "      <td>CL2</td>\n",
       "      <td>CL0</td>\n",
       "      <td>CL2</td>\n",
       "      <td>CL6</td>\n",
       "      <td>CL0</td>\n",
       "      <td>CL0</td>\n",
       "    </tr>\n",
       "    <tr>\n",
       "      <th>1883</th>\n",
       "      <td>18-24</td>\n",
       "      <td>0</td>\n",
       "      <td>Left schl at 17</td>\n",
       "      <td>USA</td>\n",
       "      <td>White</td>\n",
       "      <td>0.91093</td>\n",
       "      <td>-1.92173</td>\n",
       "      <td>0.29338</td>\n",
       "      <td>-1.62090</td>\n",
       "      <td>-2.57309</td>\n",
       "      <td>...</td>\n",
       "      <td>CL3</td>\n",
       "      <td>CL0</td>\n",
       "      <td>CL0</td>\n",
       "      <td>CL3</td>\n",
       "      <td>CL3</td>\n",
       "      <td>CL0</td>\n",
       "      <td>CL3</td>\n",
       "      <td>CL4</td>\n",
       "      <td>CL0</td>\n",
       "      <td>CL0</td>\n",
       "    </tr>\n",
       "    <tr>\n",
       "      <th>1884</th>\n",
       "      <td>18-24</td>\n",
       "      <td>1</td>\n",
       "      <td>Left schl at 17</td>\n",
       "      <td>IRE</td>\n",
       "      <td>White</td>\n",
       "      <td>-0.46725</td>\n",
       "      <td>2.12700</td>\n",
       "      <td>1.65653</td>\n",
       "      <td>1.11406</td>\n",
       "      <td>0.41594</td>\n",
       "      <td>...</td>\n",
       "      <td>CL3</td>\n",
       "      <td>CL0</td>\n",
       "      <td>CL0</td>\n",
       "      <td>CL3</td>\n",
       "      <td>CL3</td>\n",
       "      <td>CL0</td>\n",
       "      <td>CL3</td>\n",
       "      <td>CL6</td>\n",
       "      <td>CL0</td>\n",
       "      <td>CL2</td>\n",
       "    </tr>\n",
       "  </tbody>\n",
       "</table>\n",
       "<p>5 rows × 31 columns</p>\n",
       "</div>"
      ],
      "text/plain": [
       "        Age  Gender             Educ Cntry   Ethn       NS       ES       OS  \\\n",
       "1880  18-24       0  Left schl at 17   USA  White -1.19430  1.74091  1.88511   \n",
       "1881  18-24       1  Left schl at 17   USA  White -0.24649  1.74091  0.58331   \n",
       "1882  25-34       0      univ degree   USA  White  1.13281 -1.37639 -1.27553   \n",
       "1883  18-24       0  Left schl at 17   USA  White  0.91093 -1.92173  0.29338   \n",
       "1884  18-24       1  Left schl at 17   IRE  White -0.46725  2.12700  1.65653   \n",
       "\n",
       "           AS       CS  ...  Ecstasy  Heroin Ketamine LegalH  LSD Meth  \\\n",
       "1880  0.76096 -1.13788  ...      CL0     CL0      CL0    CL3  CL3  CL0   \n",
       "1881  0.76096 -1.51840  ...      CL2     CL0      CL0    CL3  CL5  CL4   \n",
       "1882 -1.77200 -1.38502  ...      CL4     CL0      CL2    CL0  CL2  CL0   \n",
       "1883 -1.62090 -2.57309  ...      CL3     CL0      CL0    CL3  CL3  CL0   \n",
       "1884  1.11406  0.41594  ...      CL3     CL0      CL0    CL3  CL3  CL0   \n",
       "\n",
       "     Shrooms Nicotine Semer  VSA  \n",
       "1880     CL0      CL0   CL0  CL5  \n",
       "1881     CL4      CL5   CL0  CL0  \n",
       "1882     CL2      CL6   CL0  CL0  \n",
       "1883     CL3      CL4   CL0  CL0  \n",
       "1884     CL3      CL6   CL0  CL2  \n",
       "\n",
       "[5 rows x 31 columns]"
      ]
     },
     "execution_count": 31,
     "metadata": {},
     "output_type": "execute_result"
    }
   ],
   "source": [
    "df.tail()"
   ]
  },
  {
   "cell_type": "markdown",
   "metadata": {
    "id": "P4WQGN4vZRqY"
   },
   "source": [
    "# **Binary Classification**"
   ]
  },
  {
   "cell_type": "markdown",
   "metadata": {
    "id": "eCnn6sdOQttd"
   },
   "source": [
    "## Preprocessing data for binary classification"
   ]
  },
  {
   "cell_type": "code",
   "execution_count": 32,
   "metadata": {
    "id": "-Ap-1txEoRbv"
   },
   "outputs": [],
   "source": [
    "# Заменяем наши классы вещественными значениями от -3.0 до 3.0\n",
    "# Для дальнейшего создания целевой бинарной переменной\n",
    "df.replace(['CL0','CL1','CL2','CL3','CL4','CL5','CL6'],[-3.0,-2.0,-1.0,0.0,1.0,2.0,3.0], inplace=True)"
   ]
  },
  {
   "cell_type": "code",
   "execution_count": 33,
   "metadata": {
    "id": "RGaGuNpxRKsx"
   },
   "outputs": [],
   "source": [
    "# Создаем новый dataframe для тестовой части\n",
    "feature_names = ['Age','Gender','Educ','Cntry','Ethn','NS','ES','OS','AS','CS','SS','Alcohol','Caffeine','Choco','Nicotine']\n",
    "df_bite = pd.DataFrame.copy(df[feature_names])"
   ]
  },
  {
   "cell_type": "code",
   "execution_count": 34,
   "metadata": {
    "id": "NH0lJM-4RKzL"
   },
   "outputs": [],
   "source": [
    "# Список наркотиков.\n",
    "drug_names = ['Amphet','Amyl','Benzos','Cannabis','Coke','Crack','Ecstasy','Heroin','Ketamine',\n",
    "                           'LegalH','LSD','Meth','Shrooms','Semer','VSA']\n",
    "# Создаем таргет с нулевыми значениями\n",
    "df_bite['target'] = int(0)"
   ]
  },
  {
   "cell_type": "code",
   "execution_count": 35,
   "metadata": {
    "colab": {
     "base_uri": "https://localhost:8080/",
     "height": 250
    },
    "id": "rx7--jQcRK4k",
    "outputId": "be93e782-c217-473e-8b21-72a2f62d4f58"
   },
   "outputs": [
    {
     "data": {
      "text/html": [
       "<div>\n",
       "<style scoped>\n",
       "    .dataframe tbody tr th:only-of-type {\n",
       "        vertical-align: middle;\n",
       "    }\n",
       "\n",
       "    .dataframe tbody tr th {\n",
       "        vertical-align: top;\n",
       "    }\n",
       "\n",
       "    .dataframe thead th {\n",
       "        text-align: right;\n",
       "    }\n",
       "</style>\n",
       "<table border=\"1\" class=\"dataframe\">\n",
       "  <thead>\n",
       "    <tr style=\"text-align: right;\">\n",
       "      <th></th>\n",
       "      <th>Age</th>\n",
       "      <th>Gender</th>\n",
       "      <th>Educ</th>\n",
       "      <th>Cntry</th>\n",
       "      <th>Ethn</th>\n",
       "      <th>NS</th>\n",
       "      <th>ES</th>\n",
       "      <th>OS</th>\n",
       "      <th>AS</th>\n",
       "      <th>CS</th>\n",
       "      <th>SS</th>\n",
       "      <th>Alcohol</th>\n",
       "      <th>Caffeine</th>\n",
       "      <th>Choco</th>\n",
       "      <th>Nicotine</th>\n",
       "      <th>target</th>\n",
       "    </tr>\n",
       "  </thead>\n",
       "  <tbody>\n",
       "    <tr>\n",
       "      <th>0</th>\n",
       "      <td>35-44</td>\n",
       "      <td>0</td>\n",
       "      <td>prof cert/diploma</td>\n",
       "      <td>UK</td>\n",
       "      <td>Mixed-White/Asian</td>\n",
       "      <td>0.31287</td>\n",
       "      <td>-0.57545</td>\n",
       "      <td>-0.58331</td>\n",
       "      <td>-0.91699</td>\n",
       "      <td>-0.00665</td>\n",
       "      <td>-1.18084</td>\n",
       "      <td>2.0</td>\n",
       "      <td>3.0</td>\n",
       "      <td>2.0</td>\n",
       "      <td>-1.0</td>\n",
       "      <td>0</td>\n",
       "    </tr>\n",
       "    <tr>\n",
       "      <th>1</th>\n",
       "      <td>25-34</td>\n",
       "      <td>1</td>\n",
       "      <td>PhD</td>\n",
       "      <td>UK</td>\n",
       "      <td>White</td>\n",
       "      <td>-0.67825</td>\n",
       "      <td>1.93886</td>\n",
       "      <td>1.43533</td>\n",
       "      <td>0.76096</td>\n",
       "      <td>-0.14277</td>\n",
       "      <td>-0.21575</td>\n",
       "      <td>2.0</td>\n",
       "      <td>3.0</td>\n",
       "      <td>3.0</td>\n",
       "      <td>1.0</td>\n",
       "      <td>0</td>\n",
       "    </tr>\n",
       "    <tr>\n",
       "      <th>2</th>\n",
       "      <td>35-44</td>\n",
       "      <td>1</td>\n",
       "      <td>prof cert/diploma</td>\n",
       "      <td>UK</td>\n",
       "      <td>White</td>\n",
       "      <td>-0.46725</td>\n",
       "      <td>0.80523</td>\n",
       "      <td>-0.84732</td>\n",
       "      <td>-1.62090</td>\n",
       "      <td>-1.01450</td>\n",
       "      <td>0.40148</td>\n",
       "      <td>3.0</td>\n",
       "      <td>3.0</td>\n",
       "      <td>1.0</td>\n",
       "      <td>-3.0</td>\n",
       "      <td>0</td>\n",
       "    </tr>\n",
       "    <tr>\n",
       "      <th>3</th>\n",
       "      <td>18-24</td>\n",
       "      <td>0</td>\n",
       "      <td>Ms degree</td>\n",
       "      <td>UK</td>\n",
       "      <td>White</td>\n",
       "      <td>-0.14882</td>\n",
       "      <td>-0.80615</td>\n",
       "      <td>-0.01928</td>\n",
       "      <td>0.59042</td>\n",
       "      <td>0.58489</td>\n",
       "      <td>-1.18084</td>\n",
       "      <td>1.0</td>\n",
       "      <td>2.0</td>\n",
       "      <td>1.0</td>\n",
       "      <td>-1.0</td>\n",
       "      <td>0</td>\n",
       "    </tr>\n",
       "    <tr>\n",
       "      <th>4</th>\n",
       "      <td>35-44</td>\n",
       "      <td>0</td>\n",
       "      <td>PhD</td>\n",
       "      <td>UK</td>\n",
       "      <td>White</td>\n",
       "      <td>0.73545</td>\n",
       "      <td>-1.63340</td>\n",
       "      <td>-0.45174</td>\n",
       "      <td>-0.30172</td>\n",
       "      <td>1.30612</td>\n",
       "      <td>-0.21575</td>\n",
       "      <td>1.0</td>\n",
       "      <td>3.0</td>\n",
       "      <td>3.0</td>\n",
       "      <td>-1.0</td>\n",
       "      <td>0</td>\n",
       "    </tr>\n",
       "  </tbody>\n",
       "</table>\n",
       "</div>"
      ],
      "text/plain": [
       "     Age  Gender               Educ Cntry               Ethn       NS  \\\n",
       "0  35-44       0  prof cert/diploma    UK  Mixed-White/Asian  0.31287   \n",
       "1  25-34       1                PhD    UK              White -0.67825   \n",
       "2  35-44       1  prof cert/diploma    UK              White -0.46725   \n",
       "3  18-24       0          Ms degree    UK              White -0.14882   \n",
       "4  35-44       0                PhD    UK              White  0.73545   \n",
       "\n",
       "        ES       OS       AS       CS       SS  Alcohol  Caffeine  Choco  \\\n",
       "0 -0.57545 -0.58331 -0.91699 -0.00665 -1.18084      2.0       3.0    2.0   \n",
       "1  1.93886  1.43533  0.76096 -0.14277 -0.21575      2.0       3.0    3.0   \n",
       "2  0.80523 -0.84732 -1.62090 -1.01450  0.40148      3.0       3.0    1.0   \n",
       "3 -0.80615 -0.01928  0.59042  0.58489 -1.18084      1.0       2.0    1.0   \n",
       "4 -1.63340 -0.45174 -0.30172  1.30612 -0.21575      1.0       3.0    3.0   \n",
       "\n",
       "   Nicotine  target  \n",
       "0      -1.0       0  \n",
       "1       1.0       0  \n",
       "2      -3.0       0  \n",
       "3      -1.0       0  \n",
       "4      -1.0       0  "
      ]
     },
     "execution_count": 35,
     "metadata": {},
     "output_type": "execute_result"
    }
   ],
   "source": [
    "df_bite.head()"
   ]
  },
  {
   "cell_type": "code",
   "execution_count": 36,
   "metadata": {
    "colab": {
     "base_uri": "https://localhost:8080/"
    },
    "id": "_jg_Dg-t8mZF",
    "outputId": "cd74738d-e58a-430f-c0fd-490d99b27062"
   },
   "outputs": [
    {
     "data": {
      "text/plain": [
       "((1885, 31), (1885, 16))"
      ]
     },
     "execution_count": 36,
     "metadata": {},
     "output_type": "execute_result"
    }
   ],
   "source": [
    "df.shape, df_bite.shape"
   ]
  },
  {
   "cell_type": "code",
   "execution_count": 37,
   "metadata": {
    "id": "WjCFWszT8mnx"
   },
   "outputs": [],
   "source": [
    "# Цикл для создания целевой переменной \n",
    "# Если наше значение в классе больше значения -2.0(CL0/CL1) то мы таргет меняем на 1. \n",
    "# Считаем что люди, которые не употреляли или упортербяли больше 10 лет не склонны употрелению наркотических веществ. \n",
    "\n",
    "for ind, row in df.iterrows():\n",
    "  if row[drug_names].max() > -2:\n",
    "    df_bite.loc[[ind],['target']] = int(1)"
   ]
  },
  {
   "cell_type": "code",
   "execution_count": 38,
   "metadata": {
    "colab": {
     "base_uri": "https://localhost:8080/"
    },
    "id": "0-pC0oPu9o5c",
    "outputId": "064504f5-bfe4-45d2-b1d4-f0ad44de6c68"
   },
   "outputs": [
    {
     "data": {
      "text/plain": [
       "1    1418\n",
       "0     467\n",
       "Name: target, dtype: int64"
      ]
     },
     "execution_count": 38,
     "metadata": {},
     "output_type": "execute_result"
    }
   ],
   "source": [
    "# Видим, что у нас есть дисбаланс классов\n",
    "# Людей употреблявших наркотические вещества больше.\n",
    "df_bite['target'].value_counts()"
   ]
  },
  {
   "cell_type": "code",
   "execution_count": 39,
   "metadata": {
    "colab": {
     "base_uri": "https://localhost:8080/"
    },
    "id": "76rfwGZAS0sK",
    "outputId": "67bd2486-db33-44ed-9a31-4a1cb9f0fa7a"
   },
   "outputs": [
    {
     "data": {
      "text/plain": [
       "((1885, 16), (1885, 31))"
      ]
     },
     "execution_count": 39,
     "metadata": {},
     "output_type": "execute_result"
    }
   ],
   "source": [
    "df_bite.shape, df.shape"
   ]
  },
  {
   "cell_type": "code",
   "execution_count": 40,
   "metadata": {
    "colab": {
     "base_uri": "https://localhost:8080/",
     "height": 250
    },
    "id": "KEar9QTKUs9o",
    "outputId": "5722e6c1-f228-40fb-ad5e-e81164038022"
   },
   "outputs": [
    {
     "data": {
      "text/html": [
       "<div>\n",
       "<style scoped>\n",
       "    .dataframe tbody tr th:only-of-type {\n",
       "        vertical-align: middle;\n",
       "    }\n",
       "\n",
       "    .dataframe tbody tr th {\n",
       "        vertical-align: top;\n",
       "    }\n",
       "\n",
       "    .dataframe thead th {\n",
       "        text-align: right;\n",
       "    }\n",
       "</style>\n",
       "<table border=\"1\" class=\"dataframe\">\n",
       "  <thead>\n",
       "    <tr style=\"text-align: right;\">\n",
       "      <th></th>\n",
       "      <th>Age</th>\n",
       "      <th>Gender</th>\n",
       "      <th>Educ</th>\n",
       "      <th>Cntry</th>\n",
       "      <th>Ethn</th>\n",
       "      <th>NS</th>\n",
       "      <th>ES</th>\n",
       "      <th>OS</th>\n",
       "      <th>AS</th>\n",
       "      <th>CS</th>\n",
       "      <th>SS</th>\n",
       "      <th>Alcohol</th>\n",
       "      <th>Caffeine</th>\n",
       "      <th>Choco</th>\n",
       "      <th>Nicotine</th>\n",
       "      <th>target</th>\n",
       "    </tr>\n",
       "  </thead>\n",
       "  <tbody>\n",
       "    <tr>\n",
       "      <th>0</th>\n",
       "      <td>35-44</td>\n",
       "      <td>0</td>\n",
       "      <td>prof cert/diploma</td>\n",
       "      <td>UK</td>\n",
       "      <td>Mixed-White/Asian</td>\n",
       "      <td>0.31287</td>\n",
       "      <td>-0.57545</td>\n",
       "      <td>-0.58331</td>\n",
       "      <td>-0.91699</td>\n",
       "      <td>-0.00665</td>\n",
       "      <td>-1.18084</td>\n",
       "      <td>2.0</td>\n",
       "      <td>3.0</td>\n",
       "      <td>2.0</td>\n",
       "      <td>-1.0</td>\n",
       "      <td>1</td>\n",
       "    </tr>\n",
       "    <tr>\n",
       "      <th>1</th>\n",
       "      <td>25-34</td>\n",
       "      <td>1</td>\n",
       "      <td>PhD</td>\n",
       "      <td>UK</td>\n",
       "      <td>White</td>\n",
       "      <td>-0.67825</td>\n",
       "      <td>1.93886</td>\n",
       "      <td>1.43533</td>\n",
       "      <td>0.76096</td>\n",
       "      <td>-0.14277</td>\n",
       "      <td>-0.21575</td>\n",
       "      <td>2.0</td>\n",
       "      <td>3.0</td>\n",
       "      <td>3.0</td>\n",
       "      <td>1.0</td>\n",
       "      <td>1</td>\n",
       "    </tr>\n",
       "    <tr>\n",
       "      <th>2</th>\n",
       "      <td>35-44</td>\n",
       "      <td>1</td>\n",
       "      <td>prof cert/diploma</td>\n",
       "      <td>UK</td>\n",
       "      <td>White</td>\n",
       "      <td>-0.46725</td>\n",
       "      <td>0.80523</td>\n",
       "      <td>-0.84732</td>\n",
       "      <td>-1.62090</td>\n",
       "      <td>-1.01450</td>\n",
       "      <td>0.40148</td>\n",
       "      <td>3.0</td>\n",
       "      <td>3.0</td>\n",
       "      <td>1.0</td>\n",
       "      <td>-3.0</td>\n",
       "      <td>1</td>\n",
       "    </tr>\n",
       "    <tr>\n",
       "      <th>3</th>\n",
       "      <td>18-24</td>\n",
       "      <td>0</td>\n",
       "      <td>Ms degree</td>\n",
       "      <td>UK</td>\n",
       "      <td>White</td>\n",
       "      <td>-0.14882</td>\n",
       "      <td>-0.80615</td>\n",
       "      <td>-0.01928</td>\n",
       "      <td>0.59042</td>\n",
       "      <td>0.58489</td>\n",
       "      <td>-1.18084</td>\n",
       "      <td>1.0</td>\n",
       "      <td>2.0</td>\n",
       "      <td>1.0</td>\n",
       "      <td>-1.0</td>\n",
       "      <td>1</td>\n",
       "    </tr>\n",
       "    <tr>\n",
       "      <th>4</th>\n",
       "      <td>35-44</td>\n",
       "      <td>0</td>\n",
       "      <td>PhD</td>\n",
       "      <td>UK</td>\n",
       "      <td>White</td>\n",
       "      <td>0.73545</td>\n",
       "      <td>-1.63340</td>\n",
       "      <td>-0.45174</td>\n",
       "      <td>-0.30172</td>\n",
       "      <td>1.30612</td>\n",
       "      <td>-0.21575</td>\n",
       "      <td>1.0</td>\n",
       "      <td>3.0</td>\n",
       "      <td>3.0</td>\n",
       "      <td>-1.0</td>\n",
       "      <td>1</td>\n",
       "    </tr>\n",
       "  </tbody>\n",
       "</table>\n",
       "</div>"
      ],
      "text/plain": [
       "     Age  Gender               Educ Cntry               Ethn       NS  \\\n",
       "0  35-44       0  prof cert/diploma    UK  Mixed-White/Asian  0.31287   \n",
       "1  25-34       1                PhD    UK              White -0.67825   \n",
       "2  35-44       1  prof cert/diploma    UK              White -0.46725   \n",
       "3  18-24       0          Ms degree    UK              White -0.14882   \n",
       "4  35-44       0                PhD    UK              White  0.73545   \n",
       "\n",
       "        ES       OS       AS       CS       SS  Alcohol  Caffeine  Choco  \\\n",
       "0 -0.57545 -0.58331 -0.91699 -0.00665 -1.18084      2.0       3.0    2.0   \n",
       "1  1.93886  1.43533  0.76096 -0.14277 -0.21575      2.0       3.0    3.0   \n",
       "2  0.80523 -0.84732 -1.62090 -1.01450  0.40148      3.0       3.0    1.0   \n",
       "3 -0.80615 -0.01928  0.59042  0.58489 -1.18084      1.0       2.0    1.0   \n",
       "4 -1.63340 -0.45174 -0.30172  1.30612 -0.21575      1.0       3.0    3.0   \n",
       "\n",
       "   Nicotine  target  \n",
       "0      -1.0       1  \n",
       "1       1.0       1  \n",
       "2      -3.0       1  \n",
       "3      -1.0       1  \n",
       "4      -1.0       1  "
      ]
     },
     "execution_count": 40,
     "metadata": {},
     "output_type": "execute_result"
    }
   ],
   "source": [
    "# Итоговые данные для обучения с целевой переменной. Для таргета использовали данные наркотиков поэтому их не включаеем в обучающую выборку.\n",
    "df_bite.head()"
   ]
  },
  {
   "cell_type": "code",
   "execution_count": 41,
   "metadata": {
    "colab": {
     "base_uri": "https://localhost:8080/"
    },
    "id": "ufsWURDVu_-K",
    "outputId": "fe00c69a-c44d-4b3f-f7c2-1d7aeb1082a0"
   },
   "outputs": [
    {
     "name": "stdout",
     "output_type": "stream",
     "text": [
      "<class 'pandas.core.frame.DataFrame'>\n",
      "Int64Index: 1885 entries, 0 to 1884\n",
      "Data columns (total 16 columns):\n",
      " #   Column    Non-Null Count  Dtype  \n",
      "---  ------    --------------  -----  \n",
      " 0   Age       1885 non-null   object \n",
      " 1   Gender    1885 non-null   int64  \n",
      " 2   Educ      1855 non-null   object \n",
      " 3   Cntry     1885 non-null   object \n",
      " 4   Ethn      1885 non-null   object \n",
      " 5   NS        1885 non-null   float64\n",
      " 6   ES        1885 non-null   float64\n",
      " 7   OS        1885 non-null   float64\n",
      " 8   AS        1885 non-null   float64\n",
      " 9   CS        1885 non-null   float64\n",
      " 10  SS        1885 non-null   float64\n",
      " 11  Alcohol   1885 non-null   float64\n",
      " 12  Caffeine  1885 non-null   float64\n",
      " 13  Choco     1885 non-null   float64\n",
      " 14  Nicotine  1885 non-null   float64\n",
      " 15  target    1885 non-null   int64  \n",
      "dtypes: float64(10), int64(2), object(4)\n",
      "memory usage: 314.9+ KB\n"
     ]
    }
   ],
   "source": [
    "df_bite.info()"
   ]
  },
  {
   "cell_type": "markdown",
   "metadata": {
    "id": "cv7_16hKUMUs"
   },
   "source": [
    "Смотрим какие значения категориальные и далее их будем обрабатывать."
   ]
  },
  {
   "cell_type": "markdown",
   "metadata": {
    "id": "CCFM09TNVONU"
   },
   "source": [
    "Проверяем есть ли в данных пропуски"
   ]
  },
  {
   "cell_type": "code",
   "execution_count": 42,
   "metadata": {
    "colab": {
     "base_uri": "https://localhost:8080/"
    },
    "id": "bH3z06la_Wzf",
    "outputId": "822a3220-39d0-4f30-82a3-da6dbaf92ea1"
   },
   "outputs": [
    {
     "data": {
      "text/plain": [
       "30"
      ]
     },
     "execution_count": 42,
     "metadata": {},
     "output_type": "execute_result"
    }
   ],
   "source": [
    "df_bite['Educ'].isnull().sum()"
   ]
  },
  {
   "cell_type": "code",
   "execution_count": 43,
   "metadata": {
    "colab": {
     "base_uri": "https://localhost:8080/"
    },
    "id": "r0SoChkAU9bN",
    "outputId": "07111c03-cdd1-4220-90b7-a0f2c245a677"
   },
   "outputs": [
    {
     "data": {
      "text/plain": [
       "Age          0\n",
       "Gender       0\n",
       "Educ        30\n",
       "Cntry        0\n",
       "Ethn         0\n",
       "NS           0\n",
       "ES           0\n",
       "OS           0\n",
       "AS           0\n",
       "CS           0\n",
       "SS           0\n",
       "Alcohol      0\n",
       "Caffeine     0\n",
       "Choco        0\n",
       "Nicotine     0\n",
       "target       0\n",
       "dtype: int64"
      ]
     },
     "execution_count": 43,
     "metadata": {},
     "output_type": "execute_result"
    }
   ],
   "source": [
    "df_bite.isnull().sum()"
   ]
  },
  {
   "cell_type": "code",
   "execution_count": 44,
   "metadata": {
    "id": "oelL8L6dVW_K"
   },
   "outputs": [],
   "source": [
    "# Заполняем пропуски 0.\n",
    "df_bite['Educ'].fillna(0, inplace=True)"
   ]
  },
  {
   "cell_type": "code",
   "execution_count": 45,
   "metadata": {
    "colab": {
     "base_uri": "https://localhost:8080/"
    },
    "id": "13-QCNF2Vr8-",
    "outputId": "d990725b-e776-43b5-fff1-6e5cfb1a50c4"
   },
   "outputs": [
    {
     "data": {
      "text/plain": [
       "Age         0\n",
       "Gender      0\n",
       "Educ        0\n",
       "Cntry       0\n",
       "Ethn        0\n",
       "NS          0\n",
       "ES          0\n",
       "OS          0\n",
       "AS          0\n",
       "CS          0\n",
       "SS          0\n",
       "Alcohol     0\n",
       "Caffeine    0\n",
       "Choco       0\n",
       "Nicotine    0\n",
       "target      0\n",
       "dtype: int64"
      ]
     },
     "execution_count": 45,
     "metadata": {},
     "output_type": "execute_result"
    }
   ],
   "source": [
    "df_bite.isnull().sum()"
   ]
  },
  {
   "cell_type": "code",
   "execution_count": 46,
   "metadata": {
    "id": "ZXly9VZvvMO1"
   },
   "outputs": [],
   "source": [
    "#  Отделаем целевую переменную от тестовой части \n",
    "train_df, y = df_bite.drop(['target'], axis=1), df_bite['target']"
   ]
  },
  {
   "cell_type": "code",
   "execution_count": 47,
   "metadata": {
    "colab": {
     "base_uri": "https://localhost:8080/",
     "height": 206
    },
    "id": "J8jp7d8yxfyW",
    "outputId": "956c291d-3caf-480f-972f-d80115094032"
   },
   "outputs": [
    {
     "data": {
      "text/html": [
       "<div>\n",
       "<style scoped>\n",
       "    .dataframe tbody tr th:only-of-type {\n",
       "        vertical-align: middle;\n",
       "    }\n",
       "\n",
       "    .dataframe tbody tr th {\n",
       "        vertical-align: top;\n",
       "    }\n",
       "\n",
       "    .dataframe thead th {\n",
       "        text-align: right;\n",
       "    }\n",
       "</style>\n",
       "<table border=\"1\" class=\"dataframe\">\n",
       "  <thead>\n",
       "    <tr style=\"text-align: right;\">\n",
       "      <th></th>\n",
       "      <th>Age</th>\n",
       "      <th>Gender</th>\n",
       "      <th>Educ</th>\n",
       "      <th>Cntry</th>\n",
       "      <th>Ethn</th>\n",
       "      <th>NS</th>\n",
       "      <th>ES</th>\n",
       "      <th>OS</th>\n",
       "      <th>AS</th>\n",
       "      <th>CS</th>\n",
       "      <th>SS</th>\n",
       "      <th>Alcohol</th>\n",
       "      <th>Caffeine</th>\n",
       "      <th>Choco</th>\n",
       "      <th>Nicotine</th>\n",
       "    </tr>\n",
       "  </thead>\n",
       "  <tbody>\n",
       "    <tr>\n",
       "      <th>0</th>\n",
       "      <td>35-44</td>\n",
       "      <td>0</td>\n",
       "      <td>prof cert/diploma</td>\n",
       "      <td>UK</td>\n",
       "      <td>Mixed-White/Asian</td>\n",
       "      <td>0.31287</td>\n",
       "      <td>-0.57545</td>\n",
       "      <td>-0.58331</td>\n",
       "      <td>-0.91699</td>\n",
       "      <td>-0.00665</td>\n",
       "      <td>-1.18084</td>\n",
       "      <td>2.0</td>\n",
       "      <td>3.0</td>\n",
       "      <td>2.0</td>\n",
       "      <td>-1.0</td>\n",
       "    </tr>\n",
       "    <tr>\n",
       "      <th>1</th>\n",
       "      <td>25-34</td>\n",
       "      <td>1</td>\n",
       "      <td>PhD</td>\n",
       "      <td>UK</td>\n",
       "      <td>White</td>\n",
       "      <td>-0.67825</td>\n",
       "      <td>1.93886</td>\n",
       "      <td>1.43533</td>\n",
       "      <td>0.76096</td>\n",
       "      <td>-0.14277</td>\n",
       "      <td>-0.21575</td>\n",
       "      <td>2.0</td>\n",
       "      <td>3.0</td>\n",
       "      <td>3.0</td>\n",
       "      <td>1.0</td>\n",
       "    </tr>\n",
       "    <tr>\n",
       "      <th>2</th>\n",
       "      <td>35-44</td>\n",
       "      <td>1</td>\n",
       "      <td>prof cert/diploma</td>\n",
       "      <td>UK</td>\n",
       "      <td>White</td>\n",
       "      <td>-0.46725</td>\n",
       "      <td>0.80523</td>\n",
       "      <td>-0.84732</td>\n",
       "      <td>-1.62090</td>\n",
       "      <td>-1.01450</td>\n",
       "      <td>0.40148</td>\n",
       "      <td>3.0</td>\n",
       "      <td>3.0</td>\n",
       "      <td>1.0</td>\n",
       "      <td>-3.0</td>\n",
       "    </tr>\n",
       "    <tr>\n",
       "      <th>3</th>\n",
       "      <td>18-24</td>\n",
       "      <td>0</td>\n",
       "      <td>Ms degree</td>\n",
       "      <td>UK</td>\n",
       "      <td>White</td>\n",
       "      <td>-0.14882</td>\n",
       "      <td>-0.80615</td>\n",
       "      <td>-0.01928</td>\n",
       "      <td>0.59042</td>\n",
       "      <td>0.58489</td>\n",
       "      <td>-1.18084</td>\n",
       "      <td>1.0</td>\n",
       "      <td>2.0</td>\n",
       "      <td>1.0</td>\n",
       "      <td>-1.0</td>\n",
       "    </tr>\n",
       "    <tr>\n",
       "      <th>4</th>\n",
       "      <td>35-44</td>\n",
       "      <td>0</td>\n",
       "      <td>PhD</td>\n",
       "      <td>UK</td>\n",
       "      <td>White</td>\n",
       "      <td>0.73545</td>\n",
       "      <td>-1.63340</td>\n",
       "      <td>-0.45174</td>\n",
       "      <td>-0.30172</td>\n",
       "      <td>1.30612</td>\n",
       "      <td>-0.21575</td>\n",
       "      <td>1.0</td>\n",
       "      <td>3.0</td>\n",
       "      <td>3.0</td>\n",
       "      <td>-1.0</td>\n",
       "    </tr>\n",
       "  </tbody>\n",
       "</table>\n",
       "</div>"
      ],
      "text/plain": [
       "     Age  Gender               Educ Cntry               Ethn       NS  \\\n",
       "0  35-44       0  prof cert/diploma    UK  Mixed-White/Asian  0.31287   \n",
       "1  25-34       1                PhD    UK              White -0.67825   \n",
       "2  35-44       1  prof cert/diploma    UK              White -0.46725   \n",
       "3  18-24       0          Ms degree    UK              White -0.14882   \n",
       "4  35-44       0                PhD    UK              White  0.73545   \n",
       "\n",
       "        ES       OS       AS       CS       SS  Alcohol  Caffeine  Choco  \\\n",
       "0 -0.57545 -0.58331 -0.91699 -0.00665 -1.18084      2.0       3.0    2.0   \n",
       "1  1.93886  1.43533  0.76096 -0.14277 -0.21575      2.0       3.0    3.0   \n",
       "2  0.80523 -0.84732 -1.62090 -1.01450  0.40148      3.0       3.0    1.0   \n",
       "3 -0.80615 -0.01928  0.59042  0.58489 -1.18084      1.0       2.0    1.0   \n",
       "4 -1.63340 -0.45174 -0.30172  1.30612 -0.21575      1.0       3.0    3.0   \n",
       "\n",
       "   Nicotine  \n",
       "0      -1.0  \n",
       "1       1.0  \n",
       "2      -3.0  \n",
       "3      -1.0  \n",
       "4      -1.0  "
      ]
     },
     "execution_count": 47,
     "metadata": {},
     "output_type": "execute_result"
    }
   ],
   "source": [
    "train_df.head()"
   ]
  },
  {
   "cell_type": "markdown",
   "metadata": {
    "id": "5cE-mlEBuSP4"
   },
   "source": [
    "## Обработка категориальных признаков"
   ]
  },
  {
   "cell_type": "code",
   "execution_count": 48,
   "metadata": {
    "id": "69apKXoluhZo"
   },
   "outputs": [],
   "source": [
    "# Преобразуем категориальные переменные и колонки, которые были изначально тоже была категориальными('Alcohol', 'Caffeine',\t'Choco',\t'Nicotine')\n",
    "# с помощью метода One Hot Encoding\n",
    "train_df = pd.get_dummies(train_df, columns = \n",
    "                          list(train_df.select_dtypes(include='object').columns)+['Alcohol', 'Caffeine', 'Choco' , 'Nicotine'])"
   ]
  },
  {
   "cell_type": "code",
   "execution_count": 49,
   "metadata": {
    "colab": {
     "base_uri": "https://localhost:8080/",
     "height": 305
    },
    "id": "X5a00f7EuRZJ",
    "outputId": "0fd50429-d2d5-4935-c7fa-57a00985ddc8"
   },
   "outputs": [
    {
     "data": {
      "text/html": [
       "<div>\n",
       "<style scoped>\n",
       "    .dataframe tbody tr th:only-of-type {\n",
       "        vertical-align: middle;\n",
       "    }\n",
       "\n",
       "    .dataframe tbody tr th {\n",
       "        vertical-align: top;\n",
       "    }\n",
       "\n",
       "    .dataframe thead th {\n",
       "        text-align: right;\n",
       "    }\n",
       "</style>\n",
       "<table border=\"1\" class=\"dataframe\">\n",
       "  <thead>\n",
       "    <tr style=\"text-align: right;\">\n",
       "      <th></th>\n",
       "      <th>Gender</th>\n",
       "      <th>NS</th>\n",
       "      <th>ES</th>\n",
       "      <th>OS</th>\n",
       "      <th>AS</th>\n",
       "      <th>CS</th>\n",
       "      <th>SS</th>\n",
       "      <th>Age_18-24</th>\n",
       "      <th>Age_25-34</th>\n",
       "      <th>Age_35-44</th>\n",
       "      <th>...</th>\n",
       "      <th>Choco_1.0</th>\n",
       "      <th>Choco_2.0</th>\n",
       "      <th>Choco_3.0</th>\n",
       "      <th>Nicotine_-3.0</th>\n",
       "      <th>Nicotine_-2.0</th>\n",
       "      <th>Nicotine_-1.0</th>\n",
       "      <th>Nicotine_0.0</th>\n",
       "      <th>Nicotine_1.0</th>\n",
       "      <th>Nicotine_2.0</th>\n",
       "      <th>Nicotine_3.0</th>\n",
       "    </tr>\n",
       "  </thead>\n",
       "  <tbody>\n",
       "    <tr>\n",
       "      <th>0</th>\n",
       "      <td>0</td>\n",
       "      <td>0.31287</td>\n",
       "      <td>-0.57545</td>\n",
       "      <td>-0.58331</td>\n",
       "      <td>-0.91699</td>\n",
       "      <td>-0.00665</td>\n",
       "      <td>-1.18084</td>\n",
       "      <td>0</td>\n",
       "      <td>0</td>\n",
       "      <td>1</td>\n",
       "      <td>...</td>\n",
       "      <td>0</td>\n",
       "      <td>1</td>\n",
       "      <td>0</td>\n",
       "      <td>0</td>\n",
       "      <td>0</td>\n",
       "      <td>1</td>\n",
       "      <td>0</td>\n",
       "      <td>0</td>\n",
       "      <td>0</td>\n",
       "      <td>0</td>\n",
       "    </tr>\n",
       "    <tr>\n",
       "      <th>1</th>\n",
       "      <td>1</td>\n",
       "      <td>-0.67825</td>\n",
       "      <td>1.93886</td>\n",
       "      <td>1.43533</td>\n",
       "      <td>0.76096</td>\n",
       "      <td>-0.14277</td>\n",
       "      <td>-0.21575</td>\n",
       "      <td>0</td>\n",
       "      <td>1</td>\n",
       "      <td>0</td>\n",
       "      <td>...</td>\n",
       "      <td>0</td>\n",
       "      <td>0</td>\n",
       "      <td>1</td>\n",
       "      <td>0</td>\n",
       "      <td>0</td>\n",
       "      <td>0</td>\n",
       "      <td>0</td>\n",
       "      <td>1</td>\n",
       "      <td>0</td>\n",
       "      <td>0</td>\n",
       "    </tr>\n",
       "    <tr>\n",
       "      <th>2</th>\n",
       "      <td>1</td>\n",
       "      <td>-0.46725</td>\n",
       "      <td>0.80523</td>\n",
       "      <td>-0.84732</td>\n",
       "      <td>-1.62090</td>\n",
       "      <td>-1.01450</td>\n",
       "      <td>0.40148</td>\n",
       "      <td>0</td>\n",
       "      <td>0</td>\n",
       "      <td>1</td>\n",
       "      <td>...</td>\n",
       "      <td>1</td>\n",
       "      <td>0</td>\n",
       "      <td>0</td>\n",
       "      <td>1</td>\n",
       "      <td>0</td>\n",
       "      <td>0</td>\n",
       "      <td>0</td>\n",
       "      <td>0</td>\n",
       "      <td>0</td>\n",
       "      <td>0</td>\n",
       "    </tr>\n",
       "    <tr>\n",
       "      <th>3</th>\n",
       "      <td>0</td>\n",
       "      <td>-0.14882</td>\n",
       "      <td>-0.80615</td>\n",
       "      <td>-0.01928</td>\n",
       "      <td>0.59042</td>\n",
       "      <td>0.58489</td>\n",
       "      <td>-1.18084</td>\n",
       "      <td>1</td>\n",
       "      <td>0</td>\n",
       "      <td>0</td>\n",
       "      <td>...</td>\n",
       "      <td>1</td>\n",
       "      <td>0</td>\n",
       "      <td>0</td>\n",
       "      <td>0</td>\n",
       "      <td>0</td>\n",
       "      <td>1</td>\n",
       "      <td>0</td>\n",
       "      <td>0</td>\n",
       "      <td>0</td>\n",
       "      <td>0</td>\n",
       "    </tr>\n",
       "    <tr>\n",
       "      <th>4</th>\n",
       "      <td>0</td>\n",
       "      <td>0.73545</td>\n",
       "      <td>-1.63340</td>\n",
       "      <td>-0.45174</td>\n",
       "      <td>-0.30172</td>\n",
       "      <td>1.30612</td>\n",
       "      <td>-0.21575</td>\n",
       "      <td>0</td>\n",
       "      <td>0</td>\n",
       "      <td>1</td>\n",
       "      <td>...</td>\n",
       "      <td>0</td>\n",
       "      <td>0</td>\n",
       "      <td>1</td>\n",
       "      <td>0</td>\n",
       "      <td>0</td>\n",
       "      <td>1</td>\n",
       "      <td>0</td>\n",
       "      <td>0</td>\n",
       "      <td>0</td>\n",
       "      <td>0</td>\n",
       "    </tr>\n",
       "  </tbody>\n",
       "</table>\n",
       "<p>5 rows × 64 columns</p>\n",
       "</div>"
      ],
      "text/plain": [
       "   Gender       NS       ES       OS       AS       CS       SS  Age_18-24  \\\n",
       "0       0  0.31287 -0.57545 -0.58331 -0.91699 -0.00665 -1.18084          0   \n",
       "1       1 -0.67825  1.93886  1.43533  0.76096 -0.14277 -0.21575          0   \n",
       "2       1 -0.46725  0.80523 -0.84732 -1.62090 -1.01450  0.40148          0   \n",
       "3       0 -0.14882 -0.80615 -0.01928  0.59042  0.58489 -1.18084          1   \n",
       "4       0  0.73545 -1.63340 -0.45174 -0.30172  1.30612 -0.21575          0   \n",
       "\n",
       "   Age_25-34  Age_35-44  ...  Choco_1.0  Choco_2.0  Choco_3.0  Nicotine_-3.0  \\\n",
       "0          0          1  ...          0          1          0              0   \n",
       "1          1          0  ...          0          0          1              0   \n",
       "2          0          1  ...          1          0          0              1   \n",
       "3          0          0  ...          1          0          0              0   \n",
       "4          0          1  ...          0          0          1              0   \n",
       "\n",
       "   Nicotine_-2.0  Nicotine_-1.0  Nicotine_0.0  Nicotine_1.0  Nicotine_2.0  \\\n",
       "0              0              1             0             0             0   \n",
       "1              0              0             0             1             0   \n",
       "2              0              0             0             0             0   \n",
       "3              0              1             0             0             0   \n",
       "4              0              1             0             0             0   \n",
       "\n",
       "   Nicotine_3.0  \n",
       "0             0  \n",
       "1             0  \n",
       "2             0  \n",
       "3             0  \n",
       "4             0  \n",
       "\n",
       "[5 rows x 64 columns]"
      ]
     },
     "execution_count": 49,
     "metadata": {},
     "output_type": "execute_result"
    }
   ],
   "source": [
    "train_df.head()"
   ]
  },
  {
   "cell_type": "code",
   "execution_count": 50,
   "metadata": {
    "colab": {
     "base_uri": "https://localhost:8080/"
    },
    "id": "Dxu4xHYzAlCK",
    "outputId": "8274c667-038e-4935-b299-4502a06416bc"
   },
   "outputs": [
    {
     "data": {
      "text/plain": [
       "((1885, 31), (1885, 64))"
      ]
     },
     "execution_count": 50,
     "metadata": {},
     "output_type": "execute_result"
    }
   ],
   "source": [
    "df.shape, train_df.shape"
   ]
  },
  {
   "cell_type": "markdown",
   "metadata": {
    "id": "gUiwDNF4uie7"
   },
   "source": [
    "## Отбор признаков"
   ]
  },
  {
   "cell_type": "code",
   "execution_count": 51,
   "metadata": {
    "colab": {
     "base_uri": "https://localhost:8080/"
    },
    "id": "rW7MkdfhxPyC",
    "outputId": "5f9fd432-34b6-407a-a6da-611b22565d50"
   },
   "outputs": [
    {
     "data": {
      "text/plain": [
       "((1885, 64), (1885,))"
      ]
     },
     "execution_count": 51,
     "metadata": {},
     "output_type": "execute_result"
    }
   ],
   "source": [
    "train_df.shape, y.shape"
   ]
  },
  {
   "cell_type": "code",
   "execution_count": 52,
   "metadata": {
    "id": "RlAz8yHtUtA2"
   },
   "outputs": [],
   "source": [
    "x_train, x_test, y_train, y_test = train_test_split(train_df, y, test_size=.2)"
   ]
  },
  {
   "cell_type": "code",
   "execution_count": 53,
   "metadata": {
    "colab": {
     "base_uri": "https://localhost:8080/"
    },
    "id": "Uus2rgTxaAUM",
    "outputId": "c32e8896-1979-4db5-c354-cbac6b61b5cd"
   },
   "outputs": [
    {
     "data": {
      "text/plain": [
       "RandomForestClassifier(max_depth=50, max_features='sqrt', min_samples_leaf=5)"
      ]
     },
     "execution_count": 53,
     "metadata": {},
     "output_type": "execute_result"
    }
   ],
   "source": [
    "# Строим Случайный лес для отбора признаков\n",
    "clf = RandomForestClassifier(n_estimators=100, max_depth=50, min_samples_leaf=5, max_features='sqrt') # для классификации используем отбор признаков sqrt(d), где d признаки.\n",
    "clf.fit(x_train, y_train)"
   ]
  },
  {
   "cell_type": "code",
   "execution_count": 54,
   "metadata": {
    "colab": {
     "base_uri": "https://localhost:8080/"
    },
    "id": "QZ9Y-XN-aXpQ",
    "outputId": "811350b2-53b5-416a-8054-0f4f940d3e20"
   },
   "outputs": [
    {
     "data": {
      "text/plain": [
       "0.6752806813782424"
      ]
     },
     "execution_count": 54,
     "metadata": {},
     "output_type": "execute_result"
    }
   ],
   "source": [
    "roc_auc_score(y_test, clf.predict(x_test)) "
   ]
  },
  {
   "cell_type": "markdown",
   "metadata": {
    "id": "4d7xAHijvbD0"
   },
   "source": [
    "Видим,что сильный вклад привносят 4 колонки. Это люди, которые не употребяли никотин, фиктивное значение SS, демографические данные из USA и UK.  "
   ]
  },
  {
   "cell_type": "code",
   "execution_count": 102,
   "metadata": {},
   "outputs": [
    {
     "data": {
      "text/html": [
       "<div>\n",
       "<style scoped>\n",
       "    .dataframe tbody tr th:only-of-type {\n",
       "        vertical-align: middle;\n",
       "    }\n",
       "\n",
       "    .dataframe tbody tr th {\n",
       "        vertical-align: top;\n",
       "    }\n",
       "\n",
       "    .dataframe thead th {\n",
       "        text-align: right;\n",
       "    }\n",
       "</style>\n",
       "<table border=\"1\" class=\"dataframe\">\n",
       "  <thead>\n",
       "    <tr style=\"text-align: right;\">\n",
       "      <th></th>\n",
       "      <th>Feature</th>\n",
       "      <th>Importance</th>\n",
       "    </tr>\n",
       "  </thead>\n",
       "  <tbody>\n",
       "    <tr>\n",
       "      <th>0</th>\n",
       "      <td>Nicotine_-3.0</td>\n",
       "      <td>0.132148</td>\n",
       "    </tr>\n",
       "    <tr>\n",
       "      <th>1</th>\n",
       "      <td>SS</td>\n",
       "      <td>0.117170</td>\n",
       "    </tr>\n",
       "    <tr>\n",
       "      <th>2</th>\n",
       "      <td>Cntry_UK</td>\n",
       "      <td>0.092042</td>\n",
       "    </tr>\n",
       "    <tr>\n",
       "      <th>3</th>\n",
       "      <td>OS</td>\n",
       "      <td>0.083592</td>\n",
       "    </tr>\n",
       "    <tr>\n",
       "      <th>4</th>\n",
       "      <td>CS</td>\n",
       "      <td>0.071748</td>\n",
       "    </tr>\n",
       "    <tr>\n",
       "      <th>...</th>\n",
       "      <td>...</td>\n",
       "      <td>...</td>\n",
       "    </tr>\n",
       "    <tr>\n",
       "      <th>59</th>\n",
       "      <td>Ethn_Mixed-White/Asian</td>\n",
       "      <td>0.000000</td>\n",
       "    </tr>\n",
       "    <tr>\n",
       "      <th>60</th>\n",
       "      <td>Ethn_Mixed-White/Black</td>\n",
       "      <td>0.000000</td>\n",
       "    </tr>\n",
       "    <tr>\n",
       "      <th>61</th>\n",
       "      <td>Caffeine_-2.0</td>\n",
       "      <td>0.000000</td>\n",
       "    </tr>\n",
       "    <tr>\n",
       "      <th>62</th>\n",
       "      <td>Choco_-2.0</td>\n",
       "      <td>0.000000</td>\n",
       "    </tr>\n",
       "    <tr>\n",
       "      <th>63</th>\n",
       "      <td>Choco_-1.0</td>\n",
       "      <td>0.000000</td>\n",
       "    </tr>\n",
       "  </tbody>\n",
       "</table>\n",
       "<p>64 rows × 2 columns</p>\n",
       "</div>"
      ],
      "text/plain": [
       "                   Feature  Importance\n",
       "0            Nicotine_-3.0    0.132148\n",
       "1                       SS    0.117170\n",
       "2                 Cntry_UK    0.092042\n",
       "3                       OS    0.083592\n",
       "4                       CS    0.071748\n",
       "..                     ...         ...\n",
       "59  Ethn_Mixed-White/Asian    0.000000\n",
       "60  Ethn_Mixed-White/Black    0.000000\n",
       "61           Caffeine_-2.0    0.000000\n",
       "62              Choco_-2.0    0.000000\n",
       "63              Choco_-1.0    0.000000\n",
       "\n",
       "[64 rows x 2 columns]"
      ]
     },
     "execution_count": 102,
     "metadata": {},
     "output_type": "execute_result"
    }
   ],
   "source": [
    "forest_importances(clf, x_train)"
   ]
  },
  {
   "cell_type": "code",
   "execution_count": 28,
   "metadata": {
    "colab": {
     "base_uri": "https://localhost:8080/",
     "height": 677
    },
    "id": "yzk0py0ngo_d",
    "outputId": "29068e8f-5b08-43f5-c0c4-e7a634311e55"
   },
   "outputs": [
    {
     "data": {
      "text/html": [
       "<div>\n",
       "<style scoped>\n",
       "    .dataframe tbody tr th:only-of-type {\n",
       "        vertical-align: middle;\n",
       "    }\n",
       "\n",
       "    .dataframe tbody tr th {\n",
       "        vertical-align: top;\n",
       "    }\n",
       "\n",
       "    .dataframe thead th {\n",
       "        text-align: right;\n",
       "    }\n",
       "</style>\n",
       "<table border=\"1\" class=\"dataframe\">\n",
       "  <thead>\n",
       "    <tr style=\"text-align: right;\">\n",
       "      <th></th>\n",
       "      <th>Feature</th>\n",
       "      <th>Importance</th>\n",
       "    </tr>\n",
       "  </thead>\n",
       "  <tbody>\n",
       "    <tr>\n",
       "      <th>0</th>\n",
       "      <td>Nicotine_-3.0</td>\n",
       "      <td>0.148677</td>\n",
       "    </tr>\n",
       "    <tr>\n",
       "      <th>1</th>\n",
       "      <td>SS</td>\n",
       "      <td>0.098699</td>\n",
       "    </tr>\n",
       "    <tr>\n",
       "      <th>2</th>\n",
       "      <td>OS</td>\n",
       "      <td>0.095627</td>\n",
       "    </tr>\n",
       "    <tr>\n",
       "      <th>3</th>\n",
       "      <td>Cntry_UK</td>\n",
       "      <td>0.090652</td>\n",
       "    </tr>\n",
       "    <tr>\n",
       "      <th>4</th>\n",
       "      <td>CS</td>\n",
       "      <td>0.082444</td>\n",
       "    </tr>\n",
       "    <tr>\n",
       "      <th>5</th>\n",
       "      <td>NS</td>\n",
       "      <td>0.056055</td>\n",
       "    </tr>\n",
       "    <tr>\n",
       "      <th>6</th>\n",
       "      <td>AS</td>\n",
       "      <td>0.049356</td>\n",
       "    </tr>\n",
       "    <tr>\n",
       "      <th>7</th>\n",
       "      <td>Cntry_USA</td>\n",
       "      <td>0.047536</td>\n",
       "    </tr>\n",
       "    <tr>\n",
       "      <th>8</th>\n",
       "      <td>Age_18-24</td>\n",
       "      <td>0.040115</td>\n",
       "    </tr>\n",
       "    <tr>\n",
       "      <th>9</th>\n",
       "      <td>ES</td>\n",
       "      <td>0.038229</td>\n",
       "    </tr>\n",
       "    <tr>\n",
       "      <th>10</th>\n",
       "      <td>Nicotine_3.0</td>\n",
       "      <td>0.031262</td>\n",
       "    </tr>\n",
       "    <tr>\n",
       "      <th>11</th>\n",
       "      <td>Educ_Left schl at 17</td>\n",
       "      <td>0.029284</td>\n",
       "    </tr>\n",
       "    <tr>\n",
       "      <th>12</th>\n",
       "      <td>Gender</td>\n",
       "      <td>0.022854</td>\n",
       "    </tr>\n",
       "    <tr>\n",
       "      <th>13</th>\n",
       "      <td>Nicotine_-2.0</td>\n",
       "      <td>0.022673</td>\n",
       "    </tr>\n",
       "    <tr>\n",
       "      <th>14</th>\n",
       "      <td>Age_45-54</td>\n",
       "      <td>0.018552</td>\n",
       "    </tr>\n",
       "    <tr>\n",
       "      <th>15</th>\n",
       "      <td>Age_25-34</td>\n",
       "      <td>0.009432</td>\n",
       "    </tr>\n",
       "    <tr>\n",
       "      <th>16</th>\n",
       "      <td>Choco_3.0</td>\n",
       "      <td>0.009328</td>\n",
       "    </tr>\n",
       "    <tr>\n",
       "      <th>17</th>\n",
       "      <td>Educ_Ms degree</td>\n",
       "      <td>0.008837</td>\n",
       "    </tr>\n",
       "    <tr>\n",
       "      <th>18</th>\n",
       "      <td>Age_35-44</td>\n",
       "      <td>0.008694</td>\n",
       "    </tr>\n",
       "    <tr>\n",
       "      <th>19</th>\n",
       "      <td>Nicotine_0.0</td>\n",
       "      <td>0.007588</td>\n",
       "    </tr>\n",
       "  </tbody>\n",
       "</table>\n",
       "</div>"
      ],
      "text/plain": [
       "                 Feature  Importance\n",
       "0          Nicotine_-3.0    0.148677\n",
       "1                     SS    0.098699\n",
       "2                     OS    0.095627\n",
       "3               Cntry_UK    0.090652\n",
       "4                     CS    0.082444\n",
       "5                     NS    0.056055\n",
       "6                     AS    0.049356\n",
       "7              Cntry_USA    0.047536\n",
       "8              Age_18-24    0.040115\n",
       "9                     ES    0.038229\n",
       "10          Nicotine_3.0    0.031262\n",
       "11  Educ_Left schl at 17    0.029284\n",
       "12                Gender    0.022854\n",
       "13         Nicotine_-2.0    0.022673\n",
       "14             Age_45-54    0.018552\n",
       "15             Age_25-34    0.009432\n",
       "16             Choco_3.0    0.009328\n",
       "17        Educ_Ms degree    0.008837\n",
       "18             Age_35-44    0.008694\n",
       "19          Nicotine_0.0    0.007588"
      ]
     },
     "execution_count": 28,
     "metadata": {},
     "output_type": "execute_result"
    }
   ],
   "source": [
    "feat_df.head(20)"
   ]
  },
  {
   "cell_type": "code",
   "execution_count": 29,
   "metadata": {
    "colab": {
     "base_uri": "https://localhost:8080/",
     "height": 363
    },
    "id": "rouMSaHghIt1",
    "outputId": "dc3d4678-6088-4120-a22b-b331e9053e5a"
   },
   "outputs": [
    {
     "data": {
      "text/html": [
       "<div>\n",
       "<style scoped>\n",
       "    .dataframe tbody tr th:only-of-type {\n",
       "        vertical-align: middle;\n",
       "    }\n",
       "\n",
       "    .dataframe tbody tr th {\n",
       "        vertical-align: top;\n",
       "    }\n",
       "\n",
       "    .dataframe thead th {\n",
       "        text-align: right;\n",
       "    }\n",
       "</style>\n",
       "<table border=\"1\" class=\"dataframe\">\n",
       "  <thead>\n",
       "    <tr style=\"text-align: right;\">\n",
       "      <th></th>\n",
       "      <th>Feature</th>\n",
       "      <th>Importance</th>\n",
       "    </tr>\n",
       "  </thead>\n",
       "  <tbody>\n",
       "    <tr>\n",
       "      <th>54</th>\n",
       "      <td>Caffeine_-2.0</td>\n",
       "      <td>0.000052</td>\n",
       "    </tr>\n",
       "    <tr>\n",
       "      <th>55</th>\n",
       "      <td>Caffeine_-1.0</td>\n",
       "      <td>0.000050</td>\n",
       "    </tr>\n",
       "    <tr>\n",
       "      <th>56</th>\n",
       "      <td>Educ_0</td>\n",
       "      <td>0.000010</td>\n",
       "    </tr>\n",
       "    <tr>\n",
       "      <th>57</th>\n",
       "      <td>Cntry_IRE</td>\n",
       "      <td>0.000000</td>\n",
       "    </tr>\n",
       "    <tr>\n",
       "      <th>58</th>\n",
       "      <td>Cntry_NZ</td>\n",
       "      <td>0.000000</td>\n",
       "    </tr>\n",
       "    <tr>\n",
       "      <th>59</th>\n",
       "      <td>Ethn_Mixed-Black/Asian</td>\n",
       "      <td>0.000000</td>\n",
       "    </tr>\n",
       "    <tr>\n",
       "      <th>60</th>\n",
       "      <td>Ethn_Mixed-White/Asian</td>\n",
       "      <td>0.000000</td>\n",
       "    </tr>\n",
       "    <tr>\n",
       "      <th>61</th>\n",
       "      <td>Ethn_Mixed-White/Black</td>\n",
       "      <td>0.000000</td>\n",
       "    </tr>\n",
       "    <tr>\n",
       "      <th>62</th>\n",
       "      <td>Choco_-2.0</td>\n",
       "      <td>0.000000</td>\n",
       "    </tr>\n",
       "    <tr>\n",
       "      <th>63</th>\n",
       "      <td>Choco_-1.0</td>\n",
       "      <td>0.000000</td>\n",
       "    </tr>\n",
       "  </tbody>\n",
       "</table>\n",
       "</div>"
      ],
      "text/plain": [
       "                   Feature  Importance\n",
       "54           Caffeine_-2.0    0.000052\n",
       "55           Caffeine_-1.0    0.000050\n",
       "56                  Educ_0    0.000010\n",
       "57               Cntry_IRE    0.000000\n",
       "58                Cntry_NZ    0.000000\n",
       "59  Ethn_Mixed-Black/Asian    0.000000\n",
       "60  Ethn_Mixed-White/Asian    0.000000\n",
       "61  Ethn_Mixed-White/Black    0.000000\n",
       "62              Choco_-2.0    0.000000\n",
       "63              Choco_-1.0    0.000000"
      ]
     },
     "execution_count": 29,
     "metadata": {},
     "output_type": "execute_result"
    }
   ],
   "source": [
    "feat_df.tail(10)"
   ]
  },
  {
   "cell_type": "code",
   "execution_count": 30,
   "metadata": {},
   "outputs": [
    {
     "data": {
      "image/png": "[encoded data removed]",
      "text/plain": [
       "<Figure size 1440x1080 with 1 Axes>"
      ]
     },
     "metadata": {
      "needs_background": "light"
     },
     "output_type": "display_data"
    }
   ],
   "source": [
    "forest_importances_plot(feat_df)"
   ]
  },
  {
   "cell_type": "markdown",
   "metadata": {
    "id": "zjZZBmhohWf8"
   },
   "source": [
    "Убираем фичи, которые не сильно влияют на работу модели. \n",
    "Все что ниже 47 значения в feat_df"
   ]
  },
  {
   "cell_type": "code",
   "execution_count": 31,
   "metadata": {
    "id": "Rt7Z4pqXuv02"
   },
   "outputs": [],
   "source": [
    "# Разбиваем данные\n",
    "top_n_features = 46\n",
    "x_train, x_test, y_train, y_test = train_test_split(train_df[feat_df['Feature'].iloc[:top_n_features].values], y, test_size=.2, random_state=10)"
   ]
  },
  {
   "cell_type": "code",
   "execution_count": 32,
   "metadata": {
    "id": "SDNuIIqDAxz2"
   },
   "outputs": [],
   "source": [
    "from sklearn.model_selection import cross_val_score"
   ]
  },
  {
   "cell_type": "code",
   "execution_count": 33,
   "metadata": {
    "colab": {
     "base_uri": "https://localhost:8080/"
    },
    "id": "7xrDRREM8eBI",
    "outputId": "9254b553-8295-4dfa-d64e-fa60a782b804"
   },
   "outputs": [
    {
     "name": "stdout",
     "output_type": "stream",
     "text": [
      "DecisionTreeClassifier()\n",
      "model score: 0.7471264367816093 \n",
      "\n",
      "RandomForestClassifier()\n",
      "model score: 0.8910225921521997 \n",
      "\n",
      "GradientBoostingClassifier()\n",
      "model score: 0.8940943321442727 \n",
      "\n",
      "LGBMClassifier()\n",
      "model score: 0.8837891399128023 \n",
      "\n",
      "<catboost.core.CatBoostClassifier object at 0x7f7e83aea820>\n",
      "model score: 0.8919540229885058 \n",
      "\n"
     ]
    }
   ],
   "source": [
    "classifiers = [\n",
    "    DecisionTreeClassifier(),\n",
    "    RandomForestClassifier(),\n",
    "    GradientBoostingClassifier(),\n",
    "    LGBMClassifier(),\n",
    "    CatBoostClassifier(verbose=False)\n",
    "    ]\n",
    "\n",
    "\n",
    "for classifier in classifiers:\n",
    "    steps = [\n",
    "        ('clf', classifier),\n",
    "    ]\n",
    "    pipeline = Pipeline(steps)\n",
    "    pipeline.fit(x_train, y_train)   \n",
    "    print(classifier)\n",
    "    print('model score: {} \\n'.format(roc_auc_score(y_test, pipeline.predict_proba(x_test)[:, 1])))"
   ]
  },
  {
   "cell_type": "code",
   "execution_count": 34,
   "metadata": {
    "colab": {
     "base_uri": "https://localhost:8080/"
    },
    "id": "Te0GiTlBjj5Y",
    "outputId": "df49b808-779f-435b-d08f-22f1311fdac2"
   },
   "outputs": [
    {
     "data": {
      "text/plain": [
       "(1508, 46)"
      ]
     },
     "execution_count": 34,
     "metadata": {},
     "output_type": "execute_result"
    }
   ],
   "source": [
    "x_train.shape"
   ]
  },
  {
   "cell_type": "markdown",
   "metadata": {
    "id": "wiU_FxV_jm3c"
   },
   "source": [
    "## **Random Forest**"
   ]
  },
  {
   "cell_type": "code",
   "execution_count": 35,
   "metadata": {
    "colab": {
     "base_uri": "https://localhost:8080/"
    },
    "id": "JjtQ-uLMuoqO",
    "outputId": "f63e703a-6b35-4119-b84b-06c6d77d92c9"
   },
   "outputs": [
    {
     "data": {
      "text/plain": [
       "RandomForestClassifier(max_depth=50, max_features='sqrt', min_samples_leaf=5)"
      ]
     },
     "execution_count": 35,
     "metadata": {},
     "output_type": "execute_result"
    }
   ],
   "source": [
    "clf = RandomForestClassifier(n_estimators=100, max_depth=50, min_samples_leaf=5, max_features='sqrt')\n",
    "clf.fit(x_train, y_train)"
   ]
  },
  {
   "cell_type": "code",
   "execution_count": 36,
   "metadata": {
    "colab": {
     "base_uri": "https://localhost:8080/"
    },
    "id": "VLKfn7WwyCAg",
    "outputId": "1dd82e1a-13d4-4421-a82f-7a1f35ded6d7"
   },
   "outputs": [
    {
     "data": {
      "text/plain": [
       "0.8956401109789932"
      ]
     },
     "execution_count": 36,
     "metadata": {},
     "output_type": "execute_result"
    }
   ],
   "source": [
    "roc_auc_score(y_test, clf.predict_proba(x_test)[:, 1])"
   ]
  },
  {
   "cell_type": "markdown",
   "metadata": {
    "id": "XCcSHMMwW-Ws"
   },
   "source": [
    "Точность модели повысилась после удаления менее важных фич по сравнения с деревом, которое обучали для отбора признаков. \\\n",
    "Подбор параметров для RF:"
   ]
  },
  {
   "cell_type": "code",
   "execution_count": 37,
   "metadata": {
    "id": "7eeNPcJil1DI"
   },
   "outputs": [],
   "source": [
    "params = {\n",
    "          'n_estimators': range(31, 255, 16),\n",
    "          'min_samples_split': [4,5,6],\n",
    "          'max_depth': [50, 60]\n",
    "         }"
   ]
  },
  {
   "cell_type": "code",
   "execution_count": 38,
   "metadata": {},
   "outputs": [],
   "source": [
    "grid_rf = model_grid(RandomForestClassifier(n_jobs=-1), params, x_train, y_train, scoring='roc_auc')"
   ]
  },
  {
   "cell_type": "code",
   "execution_count": 39,
   "metadata": {
    "colab": {
     "base_uri": "https://localhost:8080/"
    },
    "id": "Du17xkHSl1Dc",
    "outputId": "667588d0-ab06-43a2-d20d-598c40be3747",
    "scrolled": true
   },
   "outputs": [
    {
     "data": {
      "text/plain": [
       "({'max_depth': 50, 'min_samples_split': 5, 'n_estimators': 111},\n",
       " 0.9149297728096052)"
      ]
     },
     "execution_count": 39,
     "metadata": {},
     "output_type": "execute_result"
    }
   ],
   "source": [
    "grid_rf.best_params_, grid_rf.best_score_"
   ]
  },
  {
   "cell_type": "code",
   "execution_count": 40,
   "metadata": {
    "colab": {
     "base_uri": "https://localhost:8080/"
    },
    "id": "T8fI-ss1kbWs",
    "outputId": "910416af-e343-4cf4-a58c-6669210176e4"
   },
   "outputs": [
    {
     "data": {
      "text/plain": [
       "0.8917162108600871"
      ]
     },
     "execution_count": 40,
     "metadata": {},
     "output_type": "execute_result"
    }
   ],
   "source": [
    "roc_auc_score(y_test, grid_rf.predict_proba(x_test)[:, 1])"
   ]
  },
  {
   "cell_type": "code",
   "execution_count": 41,
   "metadata": {},
   "outputs": [
    {
     "data": {
      "image/png": "[encoded data removed]",
      "text/plain": [
       "<Figure size 360x216 with 2 Axes>"
      ]
     },
     "metadata": {
      "needs_background": "light"
     },
     "output_type": "display_data"
    }
   ],
   "source": [
    "plot_confusion_matrix(y_test, grid_rf.predict(x_test))"
   ]
  },
  {
   "cell_type": "markdown",
   "metadata": {
    "id": "kez0ZmkuktSd"
   },
   "source": [
    "## **LightGBM**"
   ]
  },
  {
   "cell_type": "code",
   "execution_count": 45,
   "metadata": {
    "id": "l_osZz577U5O"
   },
   "outputs": [],
   "source": [
    "params = {\n",
    "    'max_depth': range(31, 64, 8),\n",
    "    'learning_rate': np.linspace(0.001, 0.05, 5),\n",
    "    'n_estimators': range(63, 255, 32),\n",
    "}"
   ]
  },
  {
   "cell_type": "code",
   "execution_count": 46,
   "metadata": {},
   "outputs": [],
   "source": [
    "grid_lgbm = model_grid(LGBMClassifier(n_jobs=-1), params, x_train, y_train, scoring='roc_auc')"
   ]
  },
  {
   "cell_type": "code",
   "execution_count": 47,
   "metadata": {},
   "outputs": [
    {
     "data": {
      "text/plain": [
       "{'learning_rate': 0.05, 'max_depth': 31, 'n_estimators': 127}"
      ]
     },
     "execution_count": 47,
     "metadata": {},
     "output_type": "execute_result"
    }
   ],
   "source": [
    "grid_lgbm.best_params_"
   ]
  },
  {
   "cell_type": "code",
   "execution_count": 48,
   "metadata": {
    "colab": {
     "base_uri": "https://localhost:8080/"
    },
    "id": "lW4Eji1M9pzF",
    "outputId": "2a7f36ab-5850-48f2-dff8-bb395c108326"
   },
   "outputs": [
    {
     "data": {
      "text/plain": [
       "0.8895362663495838"
      ]
     },
     "execution_count": 48,
     "metadata": {},
     "output_type": "execute_result"
    }
   ],
   "source": [
    "roc_auc_score(y_test, grid_lgbm.predict_proba(x_test)[:,1])"
   ]
  },
  {
   "cell_type": "code",
   "execution_count": 49,
   "metadata": {
    "colab": {
     "base_uri": "https://localhost:8080/",
     "height": 211
    },
    "id": "vztxGUC2ASxl",
    "outputId": "7f5a6bfd-6491-452e-853d-4efb7b14a4f3"
   },
   "outputs": [
    {
     "data": {
      "image/png": "[encoded data removed]",
      "text/plain": [
       "<Figure size 360x216 with 2 Axes>"
      ]
     },
     "metadata": {
      "needs_background": "light"
     },
     "output_type": "display_data"
    }
   ],
   "source": [
    "plot_confusion_matrix(y_test, grid_lgbm.predict(x_test))"
   ]
  },
  {
   "cell_type": "markdown",
   "metadata": {
    "id": "ZXhRSX5I3NFZ"
   },
   "source": [
    "## **CatBoost**"
   ]
  },
  {
   "cell_type": "code",
   "execution_count": 50,
   "metadata": {
    "id": "QeE1MFfTHjSc"
   },
   "outputs": [],
   "source": [
    "params = {\n",
    "    'iterations': range(400, 1300, 400),\n",
    "    'depth': range(4, 11, 2)\n",
    "}"
   ]
  },
  {
   "cell_type": "code",
   "execution_count": 51,
   "metadata": {},
   "outputs": [],
   "source": [
    "grid_cat = model_grid(CatBoostClassifier(verbose=False), params, x_train, y_train, scoring=None )"
   ]
  },
  {
   "cell_type": "code",
   "execution_count": 52,
   "metadata": {
    "colab": {
     "base_uri": "https://localhost:8080/"
    },
    "id": "CRYn6PhDJYBR",
    "outputId": "7445be4f-276c-4a50-c136-6be432593134"
   },
   "outputs": [
    {
     "data": {
      "text/plain": [
       "({'depth': 4, 'iterations': 800}, 0.8468240522760775)"
      ]
     },
     "execution_count": 52,
     "metadata": {},
     "output_type": "execute_result"
    }
   ],
   "source": [
    "grid_cat.best_params_, grid_cat.best_score_"
   ]
  },
  {
   "cell_type": "code",
   "execution_count": 53,
   "metadata": {
    "colab": {
     "base_uri": "https://localhost:8080/",
     "height": 211
    },
    "id": "ZOYQ__eHAj2D",
    "outputId": "e4dcab5c-9883-4945-e534-8cdc4d3514c7"
   },
   "outputs": [
    {
     "data": {
      "image/png": "[encoded data removed]",
      "text/plain": [
       "<Figure size 360x216 with 2 Axes>"
      ]
     },
     "metadata": {
      "needs_background": "light"
     },
     "output_type": "display_data"
    }
   ],
   "source": [
    "plot_confusion_matrix(y_test, grid_cat.predict(x_test))"
   ]
  },
  {
   "cell_type": "markdown",
   "metadata": {
    "id": "xDO0DEmjPevW"
   },
   "source": [
    "## Cross-validation models"
   ]
  },
  {
   "cell_type": "code",
   "execution_count": 54,
   "metadata": {
    "colab": {
     "base_uri": "https://localhost:8080/"
    },
    "id": "Q6yNtt0CEjra",
    "outputId": "9af2ed96-dd25-4e4e-a812-c0a19d3e1d8d"
   },
   "outputs": [
    {
     "name": "stdout",
     "output_type": "stream",
     "text": [
      "RandomForestClassifier(max_depth=50, min_samples_split=5, n_estimators=111)\n",
      "model score: 0.822\n",
      "CV: [0.90230554 0.92070331 0.90731253 0.90789474 0.90994152], Mean: 0.9096315271955699 \n",
      "\n",
      "LGBMClassifier(learning_rate=0.05, max_depth=31, n_estimators=127)\n",
      "model score: 0.833\n",
      "CV: [0.88751747 0.91790871 0.90370284 0.89643275 0.91426901], Mean: 0.9039661543238628 \n",
      "\n",
      "<catboost.core.CatBoostClassifier object at 0x7f7e844d3970>\n",
      "model score: 0.828\n",
      "CV: [0.90236376 0.92536097 0.91109688 0.91070175 0.90637427], Mean: 0.9111795269885627 \n",
      "\n"
     ]
    }
   ],
   "source": [
    "# Передаем новые модели с подобранными гиперпараметрами.\n",
    "# Оцениваем модели в 5ти кратной кросс-валидации, выводим ответы по каждому модели и усредненый результат.\n",
    "\n",
    "classifiers = [\n",
    "    RandomForestClassifier(**grid_rf.best_params_),\n",
    "    LGBMClassifier(**grid_lgbm.best_params_),\n",
    "    CatBoostClassifier(**grid_cat.best_params_, verbose=False)\n",
    "    ]\n",
    "\n",
    "for classifier in classifiers:\n",
    "    steps = [\n",
    "        ('clf', classifier),\n",
    "    ]\n",
    "    pipeline = Pipeline(steps)\n",
    "    pipeline.fit(x_train, y_train)\n",
    "    score_cv = cross_val_score(classifier, x_train, y_train, cv=5, scoring='roc_auc') \n",
    "    print(classifier)\n",
    "    print('model score: %.3f' % pipeline.score(x_test, y_test))\n",
    "    print('CV: {0}, Mean: {1} \\n'.format(score_cv, score_cv.mean()))"
   ]
  },
  {
   "cell_type": "markdown",
   "metadata": {
    "id": "-j7yAW0NA1G2"
   },
   "source": [
    "Как видим по кросс-валидации, что RF и CatBoost имеют выше точность"
   ]
  }
 ],
 "metadata": {
  "colab": {
   "collapsed_sections": [
    "wgcrXhXF2hdx",
    "_KG06CvbJZbJ",
    "zr6Y-GmXNXMm",
    "PCmozMhqNoys",
    "xMFWk8NrRBfu",
    "eCnn6sdOQttd",
    "5cE-mlEBuSP4",
    "gUiwDNF4uie7",
    "wiU_FxV_jm3c",
    "kez0ZmkuktSd",
    "ZXhRSX5I3NFZ",
    "xDO0DEmjPevW",
    "mXuODcJAw1N8",
    "kLSq6XnrqJhU",
    "oOFlGNktvWnb",
    "F3gbWWP1skAv",
    "bHDUrmcIxewy",
    "NxZKz5dj6jcy",
    "mctVa1YzQ65C",
    "iaW5kiF3VJhN"
   ],
   "name": "Binary Classification.ipynb",
   "provenance": []
  },
  "kernelspec": {
   "display_name": "Python 3 (ipykernel)",
   "language": "python",
   "name": "python3"
  },
  "language_info": {
   "codemirror_mode": {
    "name": "ipython",
    "version": 3
   },
   "file_extension": ".py",
   "mimetype": "text/x-python",
   "name": "python",
   "nbconvert_exporter": "python",
   "pygments_lexer": "ipython3",
   "version": "3.9.7"
  }
 },
 "nbformat": 4,
 "nbformat_minor": 1
}
