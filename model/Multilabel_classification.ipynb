{
 "cells": [
  {
   "cell_type": "markdown",
   "metadata": {
    "id": "DIJf9R4U_-_e"
   },
   "source": [
    "В [статье](https://arxiv.org/pdf/1506.06297.pdf) говорится, что использование наркотиков можно разделить на плеяды. Это три плеяды: героиновая плеяда, плеяда экстази и плеяда бензодиазепинов по отношению к десятилетию, годам, разделение пользователей и не пользователей по месяцам и неделям. Можно свести задачу к multilabel классификации, разбив на плеяды получим 3 класса.\n",
    "\n",
    "\n"
   ]
  },
  {
   "cell_type": "code",
   "execution_count": 1,
   "metadata": {
    "id": "2jHQaVGEXqN7"
   },
   "outputs": [],
   "source": [
    "# импортируем нужные нам библиотеки\n",
    "import pandas as pd\n",
    "import numpy as np\n",
    "from sklearn.model_selection import train_test_split, GridSearchCV\n",
    "from sklearn.metrics import roc_auc_score, log_loss, confusion_matrix\n",
    "\n",
    "from sklearn.ensemble import RandomForestClassifier\n",
    "from sklearn.pipeline import Pipeline\n",
    "from sklearn.tree import DecisionTreeClassifier\n",
    "from sklearn.ensemble import GradientBoostingClassifier\n",
    "from lightgbm import LGBMClassifier \n",
    "from catboost import CatBoostClassifier\n",
    "from sklearn.multioutput import MultiOutputClassifier\n",
    "\n",
    "from model import forest_importances, model_grid, cross_val_multilabel\n",
    "\n",
    "np.random.seed(100)"
   ]
  },
  {
   "cell_type": "code",
   "execution_count": 2,
   "metadata": {
    "id": "CJrdKouqQ40G"
   },
   "outputs": [],
   "source": [
    "df = pd.read_csv('../data/data_preprocessed.csv')"
   ]
  },
  {
   "cell_type": "code",
   "execution_count": 3,
   "metadata": {
    "colab": {
     "base_uri": "https://localhost:8080/",
     "height": 302
    },
    "id": "E-VtVPbjA0xk",
    "outputId": "34af1a30-3f3a-46c9-bdcd-5d0a009ae683"
   },
   "outputs": [
    {
     "data": {
      "text/html": [
       "<div>\n",
       "<style scoped>\n",
       "    .dataframe tbody tr th:only-of-type {\n",
       "        vertical-align: middle;\n",
       "    }\n",
       "\n",
       "    .dataframe tbody tr th {\n",
       "        vertical-align: top;\n",
       "    }\n",
       "\n",
       "    .dataframe thead th {\n",
       "        text-align: right;\n",
       "    }\n",
       "</style>\n",
       "<table border=\"1\" class=\"dataframe\">\n",
       "  <thead>\n",
       "    <tr style=\"text-align: right;\">\n",
       "      <th></th>\n",
       "      <th>Age</th>\n",
       "      <th>Gender</th>\n",
       "      <th>Educ</th>\n",
       "      <th>Cntry</th>\n",
       "      <th>Ethn</th>\n",
       "      <th>NS</th>\n",
       "      <th>ES</th>\n",
       "      <th>OS</th>\n",
       "      <th>AS</th>\n",
       "      <th>CS</th>\n",
       "      <th>...</th>\n",
       "      <th>Ecstasy</th>\n",
       "      <th>Heroin</th>\n",
       "      <th>Ketamine</th>\n",
       "      <th>LegalH</th>\n",
       "      <th>LSD</th>\n",
       "      <th>Meth</th>\n",
       "      <th>Shrooms</th>\n",
       "      <th>Nicotine</th>\n",
       "      <th>Semer</th>\n",
       "      <th>VSA</th>\n",
       "    </tr>\n",
       "  </thead>\n",
       "  <tbody>\n",
       "    <tr>\n",
       "      <th>1880</th>\n",
       "      <td>18-24</td>\n",
       "      <td>0</td>\n",
       "      <td>Left schl at 17</td>\n",
       "      <td>USA</td>\n",
       "      <td>White</td>\n",
       "      <td>-1.19430</td>\n",
       "      <td>1.74091</td>\n",
       "      <td>1.88511</td>\n",
       "      <td>0.76096</td>\n",
       "      <td>-1.13788</td>\n",
       "      <td>...</td>\n",
       "      <td>CL0</td>\n",
       "      <td>CL0</td>\n",
       "      <td>CL0</td>\n",
       "      <td>CL3</td>\n",
       "      <td>CL3</td>\n",
       "      <td>CL0</td>\n",
       "      <td>CL0</td>\n",
       "      <td>CL0</td>\n",
       "      <td>CL0</td>\n",
       "      <td>CL5</td>\n",
       "    </tr>\n",
       "    <tr>\n",
       "      <th>1881</th>\n",
       "      <td>18-24</td>\n",
       "      <td>1</td>\n",
       "      <td>Left schl at 17</td>\n",
       "      <td>USA</td>\n",
       "      <td>White</td>\n",
       "      <td>-0.24649</td>\n",
       "      <td>1.74091</td>\n",
       "      <td>0.58331</td>\n",
       "      <td>0.76096</td>\n",
       "      <td>-1.51840</td>\n",
       "      <td>...</td>\n",
       "      <td>CL2</td>\n",
       "      <td>CL0</td>\n",
       "      <td>CL0</td>\n",
       "      <td>CL3</td>\n",
       "      <td>CL5</td>\n",
       "      <td>CL4</td>\n",
       "      <td>CL4</td>\n",
       "      <td>CL5</td>\n",
       "      <td>CL0</td>\n",
       "      <td>CL0</td>\n",
       "    </tr>\n",
       "    <tr>\n",
       "      <th>1882</th>\n",
       "      <td>25-34</td>\n",
       "      <td>0</td>\n",
       "      <td>univ degree</td>\n",
       "      <td>USA</td>\n",
       "      <td>White</td>\n",
       "      <td>1.13281</td>\n",
       "      <td>-1.37639</td>\n",
       "      <td>-1.27553</td>\n",
       "      <td>-1.77200</td>\n",
       "      <td>-1.38502</td>\n",
       "      <td>...</td>\n",
       "      <td>CL4</td>\n",
       "      <td>CL0</td>\n",
       "      <td>CL2</td>\n",
       "      <td>CL0</td>\n",
       "      <td>CL2</td>\n",
       "      <td>CL0</td>\n",
       "      <td>CL2</td>\n",
       "      <td>CL6</td>\n",
       "      <td>CL0</td>\n",
       "      <td>CL0</td>\n",
       "    </tr>\n",
       "    <tr>\n",
       "      <th>1883</th>\n",
       "      <td>18-24</td>\n",
       "      <td>0</td>\n",
       "      <td>Left schl at 17</td>\n",
       "      <td>USA</td>\n",
       "      <td>White</td>\n",
       "      <td>0.91093</td>\n",
       "      <td>-1.92173</td>\n",
       "      <td>0.29338</td>\n",
       "      <td>-1.62090</td>\n",
       "      <td>-2.57309</td>\n",
       "      <td>...</td>\n",
       "      <td>CL3</td>\n",
       "      <td>CL0</td>\n",
       "      <td>CL0</td>\n",
       "      <td>CL3</td>\n",
       "      <td>CL3</td>\n",
       "      <td>CL0</td>\n",
       "      <td>CL3</td>\n",
       "      <td>CL4</td>\n",
       "      <td>CL0</td>\n",
       "      <td>CL0</td>\n",
       "    </tr>\n",
       "    <tr>\n",
       "      <th>1884</th>\n",
       "      <td>18-24</td>\n",
       "      <td>1</td>\n",
       "      <td>Left schl at 17</td>\n",
       "      <td>IRE</td>\n",
       "      <td>White</td>\n",
       "      <td>-0.46725</td>\n",
       "      <td>2.12700</td>\n",
       "      <td>1.65653</td>\n",
       "      <td>1.11406</td>\n",
       "      <td>0.41594</td>\n",
       "      <td>...</td>\n",
       "      <td>CL3</td>\n",
       "      <td>CL0</td>\n",
       "      <td>CL0</td>\n",
       "      <td>CL3</td>\n",
       "      <td>CL3</td>\n",
       "      <td>CL0</td>\n",
       "      <td>CL3</td>\n",
       "      <td>CL6</td>\n",
       "      <td>CL0</td>\n",
       "      <td>CL2</td>\n",
       "    </tr>\n",
       "  </tbody>\n",
       "</table>\n",
       "<p>5 rows × 31 columns</p>\n",
       "</div>"
      ],
      "text/plain": [
       "        Age  Gender             Educ Cntry   Ethn       NS       ES       OS  \\\n",
       "1880  18-24       0  Left schl at 17   USA  White -1.19430  1.74091  1.88511   \n",
       "1881  18-24       1  Left schl at 17   USA  White -0.24649  1.74091  0.58331   \n",
       "1882  25-34       0      univ degree   USA  White  1.13281 -1.37639 -1.27553   \n",
       "1883  18-24       0  Left schl at 17   USA  White  0.91093 -1.92173  0.29338   \n",
       "1884  18-24       1  Left schl at 17   IRE  White -0.46725  2.12700  1.65653   \n",
       "\n",
       "           AS       CS  ...  Ecstasy  Heroin Ketamine LegalH  LSD Meth  \\\n",
       "1880  0.76096 -1.13788  ...      CL0     CL0      CL0    CL3  CL3  CL0   \n",
       "1881  0.76096 -1.51840  ...      CL2     CL0      CL0    CL3  CL5  CL4   \n",
       "1882 -1.77200 -1.38502  ...      CL4     CL0      CL2    CL0  CL2  CL0   \n",
       "1883 -1.62090 -2.57309  ...      CL3     CL0      CL0    CL3  CL3  CL0   \n",
       "1884  1.11406  0.41594  ...      CL3     CL0      CL0    CL3  CL3  CL0   \n",
       "\n",
       "     Shrooms Nicotine Semer  VSA  \n",
       "1880     CL0      CL0   CL0  CL5  \n",
       "1881     CL4      CL5   CL0  CL0  \n",
       "1882     CL2      CL6   CL0  CL0  \n",
       "1883     CL3      CL4   CL0  CL0  \n",
       "1884     CL3      CL6   CL0  CL2  \n",
       "\n",
       "[5 rows x 31 columns]"
      ]
     },
     "execution_count": 3,
     "metadata": {},
     "output_type": "execute_result"
    }
   ],
   "source": [
    "df.tail()"
   ]
  },
  {
   "cell_type": "markdown",
   "metadata": {
    "id": "mXuODcJAw1N8"
   },
   "source": [
    "# **Multilabel classification** \n"
   ]
  },
  {
   "cell_type": "markdown",
   "metadata": {},
   "source": [
    "Preprocessing data"
   ]
  },
  {
   "cell_type": "code",
   "execution_count": 4,
   "metadata": {
    "id": "mk7qj5cKwkzg"
   },
   "outputs": [],
   "source": [
    "def classes2binary(a):\n",
    "  '''Если класс равен CL6, CL5, CL4 то мы делаем метку 1,\n",
    "     а если CL0, CL1, CL2, CL3 то 0.'''\n",
    "  if ((a == 'CL6') or (a == 'CL5') or (a == 'CL4')):\n",
    "        return 1\n",
    "  else:\n",
    "        return 0"
   ]
  },
  {
   "cell_type": "code",
   "execution_count": 5,
   "metadata": {
    "id": "3cZYu2icwk3n"
   },
   "outputs": [],
   "source": [
    "for i in df.iloc[:, 12:].columns:\n",
    "  df[i] = df[i].map(classes2binary)"
   ]
  },
  {
   "cell_type": "code",
   "execution_count": 6,
   "metadata": {
    "colab": {
     "base_uri": "https://localhost:8080/",
     "height": 270
    },
    "id": "gMPUw1Fpz1h6",
    "outputId": "a40530b9-f1f9-42df-83df-3141179e5f93"
   },
   "outputs": [
    {
     "data": {
      "text/html": [
       "<div>\n",
       "<style scoped>\n",
       "    .dataframe tbody tr th:only-of-type {\n",
       "        vertical-align: middle;\n",
       "    }\n",
       "\n",
       "    .dataframe tbody tr th {\n",
       "        vertical-align: top;\n",
       "    }\n",
       "\n",
       "    .dataframe thead th {\n",
       "        text-align: right;\n",
       "    }\n",
       "</style>\n",
       "<table border=\"1\" class=\"dataframe\">\n",
       "  <thead>\n",
       "    <tr style=\"text-align: right;\">\n",
       "      <th></th>\n",
       "      <th>Age</th>\n",
       "      <th>Gender</th>\n",
       "      <th>Educ</th>\n",
       "      <th>Cntry</th>\n",
       "      <th>Ethn</th>\n",
       "      <th>NS</th>\n",
       "      <th>ES</th>\n",
       "      <th>OS</th>\n",
       "      <th>AS</th>\n",
       "      <th>CS</th>\n",
       "      <th>...</th>\n",
       "      <th>Ecstasy</th>\n",
       "      <th>Heroin</th>\n",
       "      <th>Ketamine</th>\n",
       "      <th>LegalH</th>\n",
       "      <th>LSD</th>\n",
       "      <th>Meth</th>\n",
       "      <th>Shrooms</th>\n",
       "      <th>Nicotine</th>\n",
       "      <th>Semer</th>\n",
       "      <th>VSA</th>\n",
       "    </tr>\n",
       "  </thead>\n",
       "  <tbody>\n",
       "    <tr>\n",
       "      <th>0</th>\n",
       "      <td>35-44</td>\n",
       "      <td>0</td>\n",
       "      <td>prof cert/diploma</td>\n",
       "      <td>UK</td>\n",
       "      <td>Mixed-White/Asian</td>\n",
       "      <td>0.31287</td>\n",
       "      <td>-0.57545</td>\n",
       "      <td>-0.58331</td>\n",
       "      <td>-0.91699</td>\n",
       "      <td>-0.00665</td>\n",
       "      <td>...</td>\n",
       "      <td>0</td>\n",
       "      <td>0</td>\n",
       "      <td>0</td>\n",
       "      <td>0</td>\n",
       "      <td>0</td>\n",
       "      <td>0</td>\n",
       "      <td>0</td>\n",
       "      <td>0</td>\n",
       "      <td>0</td>\n",
       "      <td>0</td>\n",
       "    </tr>\n",
       "    <tr>\n",
       "      <th>1</th>\n",
       "      <td>25-34</td>\n",
       "      <td>1</td>\n",
       "      <td>PhD</td>\n",
       "      <td>UK</td>\n",
       "      <td>White</td>\n",
       "      <td>-0.67825</td>\n",
       "      <td>1.93886</td>\n",
       "      <td>1.43533</td>\n",
       "      <td>0.76096</td>\n",
       "      <td>-0.14277</td>\n",
       "      <td>...</td>\n",
       "      <td>1</td>\n",
       "      <td>0</td>\n",
       "      <td>0</td>\n",
       "      <td>0</td>\n",
       "      <td>0</td>\n",
       "      <td>0</td>\n",
       "      <td>0</td>\n",
       "      <td>1</td>\n",
       "      <td>0</td>\n",
       "      <td>0</td>\n",
       "    </tr>\n",
       "    <tr>\n",
       "      <th>2</th>\n",
       "      <td>35-44</td>\n",
       "      <td>1</td>\n",
       "      <td>prof cert/diploma</td>\n",
       "      <td>UK</td>\n",
       "      <td>White</td>\n",
       "      <td>-0.46725</td>\n",
       "      <td>0.80523</td>\n",
       "      <td>-0.84732</td>\n",
       "      <td>-1.62090</td>\n",
       "      <td>-1.01450</td>\n",
       "      <td>...</td>\n",
       "      <td>0</td>\n",
       "      <td>0</td>\n",
       "      <td>0</td>\n",
       "      <td>0</td>\n",
       "      <td>0</td>\n",
       "      <td>0</td>\n",
       "      <td>0</td>\n",
       "      <td>0</td>\n",
       "      <td>0</td>\n",
       "      <td>0</td>\n",
       "    </tr>\n",
       "    <tr>\n",
       "      <th>3</th>\n",
       "      <td>18-24</td>\n",
       "      <td>0</td>\n",
       "      <td>Ms degree</td>\n",
       "      <td>UK</td>\n",
       "      <td>White</td>\n",
       "      <td>-0.14882</td>\n",
       "      <td>-0.80615</td>\n",
       "      <td>-0.01928</td>\n",
       "      <td>0.59042</td>\n",
       "      <td>0.58489</td>\n",
       "      <td>...</td>\n",
       "      <td>0</td>\n",
       "      <td>0</td>\n",
       "      <td>0</td>\n",
       "      <td>0</td>\n",
       "      <td>0</td>\n",
       "      <td>0</td>\n",
       "      <td>0</td>\n",
       "      <td>0</td>\n",
       "      <td>0</td>\n",
       "      <td>0</td>\n",
       "    </tr>\n",
       "    <tr>\n",
       "      <th>4</th>\n",
       "      <td>35-44</td>\n",
       "      <td>0</td>\n",
       "      <td>PhD</td>\n",
       "      <td>UK</td>\n",
       "      <td>White</td>\n",
       "      <td>0.73545</td>\n",
       "      <td>-1.63340</td>\n",
       "      <td>-0.45174</td>\n",
       "      <td>-0.30172</td>\n",
       "      <td>1.30612</td>\n",
       "      <td>...</td>\n",
       "      <td>0</td>\n",
       "      <td>0</td>\n",
       "      <td>0</td>\n",
       "      <td>0</td>\n",
       "      <td>0</td>\n",
       "      <td>0</td>\n",
       "      <td>0</td>\n",
       "      <td>0</td>\n",
       "      <td>0</td>\n",
       "      <td>0</td>\n",
       "    </tr>\n",
       "  </tbody>\n",
       "</table>\n",
       "<p>5 rows × 31 columns</p>\n",
       "</div>"
      ],
      "text/plain": [
       "     Age  Gender               Educ Cntry               Ethn       NS  \\\n",
       "0  35-44       0  prof cert/diploma    UK  Mixed-White/Asian  0.31287   \n",
       "1  25-34       1                PhD    UK              White -0.67825   \n",
       "2  35-44       1  prof cert/diploma    UK              White -0.46725   \n",
       "3  18-24       0          Ms degree    UK              White -0.14882   \n",
       "4  35-44       0                PhD    UK              White  0.73545   \n",
       "\n",
       "        ES       OS       AS       CS  ...  Ecstasy  Heroin  Ketamine  LegalH  \\\n",
       "0 -0.57545 -0.58331 -0.91699 -0.00665  ...        0       0         0       0   \n",
       "1  1.93886  1.43533  0.76096 -0.14277  ...        1       0         0       0   \n",
       "2  0.80523 -0.84732 -1.62090 -1.01450  ...        0       0         0       0   \n",
       "3 -0.80615 -0.01928  0.59042  0.58489  ...        0       0         0       0   \n",
       "4 -1.63340 -0.45174 -0.30172  1.30612  ...        0       0         0       0   \n",
       "\n",
       "   LSD  Meth  Shrooms  Nicotine  Semer  VSA  \n",
       "0    0     0        0         0      0    0  \n",
       "1    0     0        0         1      0    0  \n",
       "2    0     0        0         0      0    0  \n",
       "3    0     0        0         0      0    0  \n",
       "4    0     0        0         0      0    0  \n",
       "\n",
       "[5 rows x 31 columns]"
      ]
     },
     "execution_count": 6,
     "metadata": {},
     "output_type": "execute_result"
    }
   ],
   "source": [
    "df.head()"
   ]
  },
  {
   "cell_type": "code",
   "execution_count": 7,
   "metadata": {
    "id": "lsKXDRZd3WxW"
   },
   "outputs": [],
   "source": [
    "# Преобразуем категориальные переменные и колонки, которые были изначально тоже была категориальными('Alcohol', 'Caffeine',\t'Choco',\t'Nicotine')\n",
    "# с помощью метода One Hot Encoding\n",
    "multi_df = pd.get_dummies(df, columns = \n",
    "                          list(df.select_dtypes(include='object').columns))"
   ]
  },
  {
   "cell_type": "code",
   "execution_count": 8,
   "metadata": {
    "colab": {
     "base_uri": "https://localhost:8080/",
     "height": 305
    },
    "id": "EpaeiSAw30Yw",
    "outputId": "32bf9797-898f-4a5f-fd5d-1e0f93416d9f"
   },
   "outputs": [
    {
     "data": {
      "text/html": [
       "<div>\n",
       "<style scoped>\n",
       "    .dataframe tbody tr th:only-of-type {\n",
       "        vertical-align: middle;\n",
       "    }\n",
       "\n",
       "    .dataframe tbody tr th {\n",
       "        vertical-align: top;\n",
       "    }\n",
       "\n",
       "    .dataframe thead th {\n",
       "        text-align: right;\n",
       "    }\n",
       "</style>\n",
       "<table border=\"1\" class=\"dataframe\">\n",
       "  <thead>\n",
       "    <tr style=\"text-align: right;\">\n",
       "      <th></th>\n",
       "      <th>Gender</th>\n",
       "      <th>NS</th>\n",
       "      <th>ES</th>\n",
       "      <th>OS</th>\n",
       "      <th>AS</th>\n",
       "      <th>CS</th>\n",
       "      <th>Imp</th>\n",
       "      <th>SS</th>\n",
       "      <th>Alcohol</th>\n",
       "      <th>Amphet</th>\n",
       "      <th>...</th>\n",
       "      <th>Cntry_Other</th>\n",
       "      <th>Cntry_UK</th>\n",
       "      <th>Cntry_USA</th>\n",
       "      <th>Ethn_Asian</th>\n",
       "      <th>Ethn_Black</th>\n",
       "      <th>Ethn_Mixed-Black/Asian</th>\n",
       "      <th>Ethn_Mixed-White/Asian</th>\n",
       "      <th>Ethn_Mixed-White/Black</th>\n",
       "      <th>Ethn_Other</th>\n",
       "      <th>Ethn_White</th>\n",
       "    </tr>\n",
       "  </thead>\n",
       "  <tbody>\n",
       "    <tr>\n",
       "      <th>0</th>\n",
       "      <td>0</td>\n",
       "      <td>0.31287</td>\n",
       "      <td>-0.57545</td>\n",
       "      <td>-0.58331</td>\n",
       "      <td>-0.91699</td>\n",
       "      <td>-0.00665</td>\n",
       "      <td>-0.21712</td>\n",
       "      <td>-1.18084</td>\n",
       "      <td>1</td>\n",
       "      <td>0</td>\n",
       "      <td>...</td>\n",
       "      <td>0</td>\n",
       "      <td>1</td>\n",
       "      <td>0</td>\n",
       "      <td>0</td>\n",
       "      <td>0</td>\n",
       "      <td>0</td>\n",
       "      <td>1</td>\n",
       "      <td>0</td>\n",
       "      <td>0</td>\n",
       "      <td>0</td>\n",
       "    </tr>\n",
       "    <tr>\n",
       "      <th>1</th>\n",
       "      <td>1</td>\n",
       "      <td>-0.67825</td>\n",
       "      <td>1.93886</td>\n",
       "      <td>1.43533</td>\n",
       "      <td>0.76096</td>\n",
       "      <td>-0.14277</td>\n",
       "      <td>-0.71126</td>\n",
       "      <td>-0.21575</td>\n",
       "      <td>1</td>\n",
       "      <td>0</td>\n",
       "      <td>...</td>\n",
       "      <td>0</td>\n",
       "      <td>1</td>\n",
       "      <td>0</td>\n",
       "      <td>0</td>\n",
       "      <td>0</td>\n",
       "      <td>0</td>\n",
       "      <td>0</td>\n",
       "      <td>0</td>\n",
       "      <td>0</td>\n",
       "      <td>1</td>\n",
       "    </tr>\n",
       "    <tr>\n",
       "      <th>2</th>\n",
       "      <td>1</td>\n",
       "      <td>-0.46725</td>\n",
       "      <td>0.80523</td>\n",
       "      <td>-0.84732</td>\n",
       "      <td>-1.62090</td>\n",
       "      <td>-1.01450</td>\n",
       "      <td>-1.37983</td>\n",
       "      <td>0.40148</td>\n",
       "      <td>1</td>\n",
       "      <td>0</td>\n",
       "      <td>...</td>\n",
       "      <td>0</td>\n",
       "      <td>1</td>\n",
       "      <td>0</td>\n",
       "      <td>0</td>\n",
       "      <td>0</td>\n",
       "      <td>0</td>\n",
       "      <td>0</td>\n",
       "      <td>0</td>\n",
       "      <td>0</td>\n",
       "      <td>1</td>\n",
       "    </tr>\n",
       "    <tr>\n",
       "      <th>3</th>\n",
       "      <td>0</td>\n",
       "      <td>-0.14882</td>\n",
       "      <td>-0.80615</td>\n",
       "      <td>-0.01928</td>\n",
       "      <td>0.59042</td>\n",
       "      <td>0.58489</td>\n",
       "      <td>-1.37983</td>\n",
       "      <td>-1.18084</td>\n",
       "      <td>1</td>\n",
       "      <td>0</td>\n",
       "      <td>...</td>\n",
       "      <td>0</td>\n",
       "      <td>1</td>\n",
       "      <td>0</td>\n",
       "      <td>0</td>\n",
       "      <td>0</td>\n",
       "      <td>0</td>\n",
       "      <td>0</td>\n",
       "      <td>0</td>\n",
       "      <td>0</td>\n",
       "      <td>1</td>\n",
       "    </tr>\n",
       "    <tr>\n",
       "      <th>4</th>\n",
       "      <td>0</td>\n",
       "      <td>0.73545</td>\n",
       "      <td>-1.63340</td>\n",
       "      <td>-0.45174</td>\n",
       "      <td>-0.30172</td>\n",
       "      <td>1.30612</td>\n",
       "      <td>-0.21712</td>\n",
       "      <td>-0.21575</td>\n",
       "      <td>1</td>\n",
       "      <td>0</td>\n",
       "      <td>...</td>\n",
       "      <td>0</td>\n",
       "      <td>1</td>\n",
       "      <td>0</td>\n",
       "      <td>0</td>\n",
       "      <td>0</td>\n",
       "      <td>0</td>\n",
       "      <td>0</td>\n",
       "      <td>0</td>\n",
       "      <td>0</td>\n",
       "      <td>1</td>\n",
       "    </tr>\n",
       "  </tbody>\n",
       "</table>\n",
       "<p>5 rows × 55 columns</p>\n",
       "</div>"
      ],
      "text/plain": [
       "   Gender       NS       ES       OS       AS       CS      Imp       SS  \\\n",
       "0       0  0.31287 -0.57545 -0.58331 -0.91699 -0.00665 -0.21712 -1.18084   \n",
       "1       1 -0.67825  1.93886  1.43533  0.76096 -0.14277 -0.71126 -0.21575   \n",
       "2       1 -0.46725  0.80523 -0.84732 -1.62090 -1.01450 -1.37983  0.40148   \n",
       "3       0 -0.14882 -0.80615 -0.01928  0.59042  0.58489 -1.37983 -1.18084   \n",
       "4       0  0.73545 -1.63340 -0.45174 -0.30172  1.30612 -0.21712 -0.21575   \n",
       "\n",
       "   Alcohol  Amphet  ...  Cntry_Other  Cntry_UK  Cntry_USA  Ethn_Asian  \\\n",
       "0        1       0  ...            0         1          0           0   \n",
       "1        1       0  ...            0         1          0           0   \n",
       "2        1       0  ...            0         1          0           0   \n",
       "3        1       0  ...            0         1          0           0   \n",
       "4        1       0  ...            0         1          0           0   \n",
       "\n",
       "   Ethn_Black  Ethn_Mixed-Black/Asian  Ethn_Mixed-White/Asian  \\\n",
       "0           0                       0                       1   \n",
       "1           0                       0                       0   \n",
       "2           0                       0                       0   \n",
       "3           0                       0                       0   \n",
       "4           0                       0                       0   \n",
       "\n",
       "   Ethn_Mixed-White/Black  Ethn_Other  Ethn_White  \n",
       "0                       0           0           0  \n",
       "1                       0           0           1  \n",
       "2                       0           0           1  \n",
       "3                       0           0           1  \n",
       "4                       0           0           1  \n",
       "\n",
       "[5 rows x 55 columns]"
      ]
     },
     "execution_count": 8,
     "metadata": {},
     "output_type": "execute_result"
    }
   ],
   "source": [
    "multi_df.head()"
   ]
  },
  {
   "cell_type": "markdown",
   "metadata": {
    "id": "VBczwk1-4mvK"
   },
   "source": [
    "1. The heroin pleiad includes crack, cocaine, methadone, and heroin;\n",
    "2. The ecstasy pleiad consists of amphetamines, cannabis, cocaine, ketamine, LSD,\n",
    "magic mushrooms, legal highs, and ecstasy;\n",
    "3. The benzodiazepines pleiad contains methadone, amphetamines, cocaine, and\n",
    "benzodiazepines."
   ]
  },
  {
   "cell_type": "code",
   "execution_count": 9,
   "metadata": {
    "id": "2068rVwy0m-R"
   },
   "outputs": [],
   "source": [
    "multi_df['heroinPl'] = multi_df.apply(lambda x: int((x['Coke'] + x['Crack'] + x['Heroin'] + x['Meth'])>0), axis = 1)\n",
    "multi_df['ecstasyPl'] = multi_df.apply(lambda x: int((x['Amphet']  + x['Cannabis'] + x['Coke']  + x['Ecstasy'] + x['Ketamine'] + x['LSD'] + x['Meth'] + x['Shrooms']+x['LegalH'] )>0), axis = 1)\n",
    "multi_df['benzoPl'] = multi_df.apply(lambda x: int((x['Amphet'] + x['Coke'] + x['Benzos'] + x['Meth'])>0), axis = 1)"
   ]
  },
  {
   "cell_type": "code",
   "execution_count": 10,
   "metadata": {
    "id": "yGaM4mDV2sPZ"
   },
   "outputs": [],
   "source": [
    "# Удаляем данные которые использовали для определения плеяд чтобы не было data leakage\n",
    "multi_df.drop(['Amphet','Benzos', 'Cannabis', 'Coke', 'Crack', 'Heroin', 'Meth', 'Ecstasy', 'Ketamine', 'LSD', 'Shrooms', 'LegalH'], axis=1, inplace=True)"
   ]
  },
  {
   "cell_type": "markdown",
   "metadata": {
    "id": "Ib47UMtCa97v"
   },
   "source": [
    "Берем только значения где пристутвиет плеяды, а где нет не берем."
   ]
  },
  {
   "cell_type": "code",
   "execution_count": 11,
   "metadata": {
    "colab": {
     "base_uri": "https://localhost:8080/"
    },
    "id": "nUd8Ch-kMa3F",
    "outputId": "63d15357-e3ed-4ee3-a897-f8115056103b"
   },
   "outputs": [
    {
     "data": {
      "text/plain": [
       "(994, 46)"
      ]
     },
     "execution_count": 11,
     "metadata": {},
     "output_type": "execute_result"
    }
   ],
   "source": [
    "multi_df = multi_df[(multi_df[\"heroinPl\"] == 1\n",
    "          ) | (multi_df[\"ecstasyPl\"] == 1\n",
    "          ) | (multi_df[\"benzoPl\"] == 1)]\n",
    "          \n",
    "multi_df.shape"
   ]
  },
  {
   "cell_type": "code",
   "execution_count": 12,
   "metadata": {
    "colab": {
     "base_uri": "https://localhost:8080/",
     "height": 206
    },
    "id": "TQyLiQgp2gBn",
    "outputId": "603d2a92-efd3-4e68-9ef1-73d18435e283"
   },
   "outputs": [
    {
     "data": {
      "text/html": [
       "<div>\n",
       "<style scoped>\n",
       "    .dataframe tbody tr th:only-of-type {\n",
       "        vertical-align: middle;\n",
       "    }\n",
       "\n",
       "    .dataframe tbody tr th {\n",
       "        vertical-align: top;\n",
       "    }\n",
       "\n",
       "    .dataframe thead th {\n",
       "        text-align: right;\n",
       "    }\n",
       "</style>\n",
       "<table border=\"1\" class=\"dataframe\">\n",
       "  <thead>\n",
       "    <tr style=\"text-align: right;\">\n",
       "      <th></th>\n",
       "      <th>heroinPl</th>\n",
       "      <th>ecstasyPl</th>\n",
       "      <th>benzoPl</th>\n",
       "    </tr>\n",
       "  </thead>\n",
       "  <tbody>\n",
       "    <tr>\n",
       "      <th>1</th>\n",
       "      <td>0</td>\n",
       "      <td>1</td>\n",
       "      <td>0</td>\n",
       "    </tr>\n",
       "    <tr>\n",
       "      <th>11</th>\n",
       "      <td>0</td>\n",
       "      <td>1</td>\n",
       "      <td>0</td>\n",
       "    </tr>\n",
       "    <tr>\n",
       "      <th>12</th>\n",
       "      <td>0</td>\n",
       "      <td>0</td>\n",
       "      <td>1</td>\n",
       "    </tr>\n",
       "    <tr>\n",
       "      <th>17</th>\n",
       "      <td>0</td>\n",
       "      <td>1</td>\n",
       "      <td>0</td>\n",
       "    </tr>\n",
       "    <tr>\n",
       "      <th>19</th>\n",
       "      <td>1</td>\n",
       "      <td>1</td>\n",
       "      <td>1</td>\n",
       "    </tr>\n",
       "  </tbody>\n",
       "</table>\n",
       "</div>"
      ],
      "text/plain": [
       "    heroinPl  ecstasyPl  benzoPl\n",
       "1          0          1        0\n",
       "11         0          1        0\n",
       "12         0          0        1\n",
       "17         0          1        0\n",
       "19         1          1        1"
      ]
     },
     "execution_count": 12,
     "metadata": {},
     "output_type": "execute_result"
    }
   ],
   "source": [
    "multi_df[['heroinPl', 'ecstasyPl', 'benzoPl']].head()"
   ]
  },
  {
   "cell_type": "code",
   "execution_count": 13,
   "metadata": {
    "colab": {
     "base_uri": "https://localhost:8080/",
     "height": 305
    },
    "id": "Vql-EjBudzEQ",
    "outputId": "10f89ecd-b1b0-44e1-992c-f1290cac5577"
   },
   "outputs": [
    {
     "data": {
      "text/html": [
       "<div>\n",
       "<style scoped>\n",
       "    .dataframe tbody tr th:only-of-type {\n",
       "        vertical-align: middle;\n",
       "    }\n",
       "\n",
       "    .dataframe tbody tr th {\n",
       "        vertical-align: top;\n",
       "    }\n",
       "\n",
       "    .dataframe thead th {\n",
       "        text-align: right;\n",
       "    }\n",
       "</style>\n",
       "<table border=\"1\" class=\"dataframe\">\n",
       "  <thead>\n",
       "    <tr style=\"text-align: right;\">\n",
       "      <th></th>\n",
       "      <th>Gender</th>\n",
       "      <th>NS</th>\n",
       "      <th>ES</th>\n",
       "      <th>OS</th>\n",
       "      <th>AS</th>\n",
       "      <th>CS</th>\n",
       "      <th>Imp</th>\n",
       "      <th>SS</th>\n",
       "      <th>Alcohol</th>\n",
       "      <th>Amyl</th>\n",
       "      <th>...</th>\n",
       "      <th>Ethn_Asian</th>\n",
       "      <th>Ethn_Black</th>\n",
       "      <th>Ethn_Mixed-Black/Asian</th>\n",
       "      <th>Ethn_Mixed-White/Asian</th>\n",
       "      <th>Ethn_Mixed-White/Black</th>\n",
       "      <th>Ethn_Other</th>\n",
       "      <th>Ethn_White</th>\n",
       "      <th>heroinPl</th>\n",
       "      <th>ecstasyPl</th>\n",
       "      <th>benzoPl</th>\n",
       "    </tr>\n",
       "  </thead>\n",
       "  <tbody>\n",
       "    <tr>\n",
       "      <th>1</th>\n",
       "      <td>1</td>\n",
       "      <td>-0.67825</td>\n",
       "      <td>1.93886</td>\n",
       "      <td>1.43533</td>\n",
       "      <td>0.76096</td>\n",
       "      <td>-0.14277</td>\n",
       "      <td>-0.71126</td>\n",
       "      <td>-0.21575</td>\n",
       "      <td>1</td>\n",
       "      <td>0</td>\n",
       "      <td>...</td>\n",
       "      <td>0</td>\n",
       "      <td>0</td>\n",
       "      <td>0</td>\n",
       "      <td>0</td>\n",
       "      <td>0</td>\n",
       "      <td>0</td>\n",
       "      <td>1</td>\n",
       "      <td>0</td>\n",
       "      <td>1</td>\n",
       "      <td>0</td>\n",
       "    </tr>\n",
       "    <tr>\n",
       "      <th>11</th>\n",
       "      <td>1</td>\n",
       "      <td>-1.32828</td>\n",
       "      <td>0.00332</td>\n",
       "      <td>0.14143</td>\n",
       "      <td>-1.92595</td>\n",
       "      <td>-0.52745</td>\n",
       "      <td>0.52975</td>\n",
       "      <td>1.22470</td>\n",
       "      <td>1</td>\n",
       "      <td>0</td>\n",
       "      <td>...</td>\n",
       "      <td>0</td>\n",
       "      <td>0</td>\n",
       "      <td>0</td>\n",
       "      <td>0</td>\n",
       "      <td>0</td>\n",
       "      <td>0</td>\n",
       "      <td>1</td>\n",
       "      <td>0</td>\n",
       "      <td>1</td>\n",
       "      <td>0</td>\n",
       "    </tr>\n",
       "    <tr>\n",
       "      <th>12</th>\n",
       "      <td>0</td>\n",
       "      <td>2.28554</td>\n",
       "      <td>0.16767</td>\n",
       "      <td>0.44585</td>\n",
       "      <td>-1.62090</td>\n",
       "      <td>-0.78155</td>\n",
       "      <td>1.29221</td>\n",
       "      <td>0.07987</td>\n",
       "      <td>1</td>\n",
       "      <td>0</td>\n",
       "      <td>...</td>\n",
       "      <td>0</td>\n",
       "      <td>0</td>\n",
       "      <td>0</td>\n",
       "      <td>0</td>\n",
       "      <td>0</td>\n",
       "      <td>0</td>\n",
       "      <td>1</td>\n",
       "      <td>0</td>\n",
       "      <td>0</td>\n",
       "      <td>1</td>\n",
       "    </tr>\n",
       "    <tr>\n",
       "      <th>17</th>\n",
       "      <td>1</td>\n",
       "      <td>0.52135</td>\n",
       "      <td>-1.23177</td>\n",
       "      <td>-0.31776</td>\n",
       "      <td>-0.45321</td>\n",
       "      <td>-1.38502</td>\n",
       "      <td>-1.37983</td>\n",
       "      <td>-0.84637</td>\n",
       "      <td>1</td>\n",
       "      <td>0</td>\n",
       "      <td>...</td>\n",
       "      <td>0</td>\n",
       "      <td>0</td>\n",
       "      <td>0</td>\n",
       "      <td>0</td>\n",
       "      <td>0</td>\n",
       "      <td>0</td>\n",
       "      <td>1</td>\n",
       "      <td>0</td>\n",
       "      <td>1</td>\n",
       "      <td>0</td>\n",
       "    </tr>\n",
       "    <tr>\n",
       "      <th>19</th>\n",
       "      <td>1</td>\n",
       "      <td>-0.34799</td>\n",
       "      <td>-1.76250</td>\n",
       "      <td>-2.39883</td>\n",
       "      <td>-1.92595</td>\n",
       "      <td>0.75830</td>\n",
       "      <td>-1.37983</td>\n",
       "      <td>-2.07848</td>\n",
       "      <td>1</td>\n",
       "      <td>0</td>\n",
       "      <td>...</td>\n",
       "      <td>0</td>\n",
       "      <td>0</td>\n",
       "      <td>0</td>\n",
       "      <td>0</td>\n",
       "      <td>0</td>\n",
       "      <td>0</td>\n",
       "      <td>1</td>\n",
       "      <td>1</td>\n",
       "      <td>1</td>\n",
       "      <td>1</td>\n",
       "    </tr>\n",
       "  </tbody>\n",
       "</table>\n",
       "<p>5 rows × 46 columns</p>\n",
       "</div>"
      ],
      "text/plain": [
       "    Gender       NS       ES       OS       AS       CS      Imp       SS  \\\n",
       "1        1 -0.67825  1.93886  1.43533  0.76096 -0.14277 -0.71126 -0.21575   \n",
       "11       1 -1.32828  0.00332  0.14143 -1.92595 -0.52745  0.52975  1.22470   \n",
       "12       0  2.28554  0.16767  0.44585 -1.62090 -0.78155  1.29221  0.07987   \n",
       "17       1  0.52135 -1.23177 -0.31776 -0.45321 -1.38502 -1.37983 -0.84637   \n",
       "19       1 -0.34799 -1.76250 -2.39883 -1.92595  0.75830 -1.37983 -2.07848   \n",
       "\n",
       "    Alcohol  Amyl  ...  Ethn_Asian  Ethn_Black  Ethn_Mixed-Black/Asian  \\\n",
       "1         1     0  ...           0           0                       0   \n",
       "11        1     0  ...           0           0                       0   \n",
       "12        1     0  ...           0           0                       0   \n",
       "17        1     0  ...           0           0                       0   \n",
       "19        1     0  ...           0           0                       0   \n",
       "\n",
       "    Ethn_Mixed-White/Asian  Ethn_Mixed-White/Black  Ethn_Other  Ethn_White  \\\n",
       "1                        0                       0           0           1   \n",
       "11                       0                       0           0           1   \n",
       "12                       0                       0           0           1   \n",
       "17                       0                       0           0           1   \n",
       "19                       0                       0           0           1   \n",
       "\n",
       "    heroinPl  ecstasyPl  benzoPl  \n",
       "1          0          1        0  \n",
       "11         0          1        0  \n",
       "12         0          0        1  \n",
       "17         0          1        0  \n",
       "19         1          1        1  \n",
       "\n",
       "[5 rows x 46 columns]"
      ]
     },
     "execution_count": 13,
     "metadata": {},
     "output_type": "execute_result"
    }
   ],
   "source": [
    "multi_df.head()"
   ]
  },
  {
   "cell_type": "code",
   "execution_count": 14,
   "metadata": {
    "id": "vE83Byq_d4PD"
   },
   "outputs": [],
   "source": [
    "# Удаляем метки из обучающей части и коррелирующее значение с SS Imp  \n",
    "multi_train, y = multi_df.drop(['heroinPl', 'ecstasyPl', 'benzoPl', 'Imp'], axis=1), multi_df[['heroinPl', 'ecstasyPl', 'benzoPl']]"
   ]
  },
  {
   "cell_type": "code",
   "execution_count": 15,
   "metadata": {
    "id": "mF6DxjGOCpJc"
   },
   "outputs": [],
   "source": [
    "x_train, x_test, y_train, y_test = train_test_split(multi_train, y, test_size=.2, random_state=13)"
   ]
  },
  {
   "cell_type": "code",
   "execution_count": 16,
   "metadata": {
    "colab": {
     "base_uri": "https://localhost:8080/"
    },
    "id": "sHZYDJLKV7Vb",
    "outputId": "ce7b2351-d6d9-4355-d0ea-bcebe0884f91"
   },
   "outputs": [
    {
     "data": {
      "text/plain": [
       "((795, 42), (795, 3))"
      ]
     },
     "execution_count": 16,
     "metadata": {},
     "output_type": "execute_result"
    }
   ],
   "source": [
    "x_train.shape, y_train.shape"
   ]
  },
  {
   "cell_type": "code",
   "execution_count": 17,
   "metadata": {
    "colab": {
     "base_uri": "https://localhost:8080/"
    },
    "id": "h-I2XYW7B0XS",
    "outputId": "6e12e771-15f2-458c-f047-166922bc9003"
   },
   "outputs": [
    {
     "data": {
      "text/plain": [
       "MultiOutputClassifier(estimator=RandomForestClassifier())"
      ]
     },
     "execution_count": 17,
     "metadata": {},
     "output_type": "execute_result"
    }
   ],
   "source": [
    "model = MultiOutputClassifier(RandomForestClassifier())\n",
    "model.fit(x_train, y_train)"
   ]
  },
  {
   "cell_type": "code",
   "execution_count": 18,
   "metadata": {
    "colab": {
     "base_uri": "https://localhost:8080/"
    },
    "id": "gG6UbhypcOOq",
    "outputId": "d54d6fb7-27df-42cf-fade-0cdc20c720e7"
   },
   "outputs": [
    {
     "data": {
      "text/plain": [
       "[RandomForestClassifier(), RandomForestClassifier(), RandomForestClassifier()]"
      ]
     },
     "execution_count": 18,
     "metadata": {},
     "output_type": "execute_result"
    }
   ],
   "source": [
    "model.estimators_"
   ]
  },
  {
   "cell_type": "code",
   "execution_count": 19,
   "metadata": {
    "id": "NZNbKlQFGHNb"
   },
   "outputs": [],
   "source": [
    "y_pred = np.transpose([pred[:, 1] for pred in model.predict_proba(x_test)])"
   ]
  },
  {
   "cell_type": "code",
   "execution_count": 20,
   "metadata": {
    "colab": {
     "base_uri": "https://localhost:8080/"
    },
    "id": "nPj_ZkhBWrpW",
    "outputId": "ffa54fed-bde3-45c9-ec45-a3b45be6366d"
   },
   "outputs": [
    {
     "data": {
      "text/plain": [
       "array([0.64911406, 0.81900585, 0.67686035])"
      ]
     },
     "execution_count": 20,
     "metadata": {},
     "output_type": "execute_result"
    }
   ],
   "source": [
    "roc_auc_score(y_test, y_pred, average=None)"
   ]
  },
  {
   "cell_type": "markdown",
   "metadata": {
    "id": "kLSq6XnrqJhU"
   },
   "source": [
    "## Отбор признаков для MultiLabel "
   ]
  },
  {
   "cell_type": "code",
   "execution_count": 21,
   "metadata": {
    "id": "N-qwMFSJga7i"
   },
   "outputs": [],
   "source": [
    "feat_heroinPl, feat_ecstasyPl, feat_benzoPl = forest_importances(model.estimators_[0], x_train),\\\n",
    "                                              forest_importances(model.estimators_[1], x_train),\\\n",
    "                                              forest_importances(model.estimators_[2], x_train)"
   ]
  },
  {
   "cell_type": "markdown",
   "metadata": {
    "id": "QViWXxOqqdGB"
   },
   "source": [
    "Смотрим какие фичи менее важны и удаляем их из данных"
   ]
  },
  {
   "cell_type": "code",
   "execution_count": 22,
   "metadata": {
    "colab": {
     "base_uri": "https://localhost:8080/",
     "height": 206
    },
    "id": "9ox9_IPhfOWj",
    "outputId": "25c27e04-41c4-4878-c7f7-d078ff8013e8"
   },
   "outputs": [
    {
     "data": {
      "text/html": [
       "<div>\n",
       "<style scoped>\n",
       "    .dataframe tbody tr th:only-of-type {\n",
       "        vertical-align: middle;\n",
       "    }\n",
       "\n",
       "    .dataframe tbody tr th {\n",
       "        vertical-align: top;\n",
       "    }\n",
       "\n",
       "    .dataframe thead th {\n",
       "        text-align: right;\n",
       "    }\n",
       "</style>\n",
       "<table border=\"1\" class=\"dataframe\">\n",
       "  <thead>\n",
       "    <tr style=\"text-align: right;\">\n",
       "      <th></th>\n",
       "      <th>Feature</th>\n",
       "      <th>Importance</th>\n",
       "    </tr>\n",
       "  </thead>\n",
       "  <tbody>\n",
       "    <tr>\n",
       "      <th>37</th>\n",
       "      <td>Semer</td>\n",
       "      <td>0.001872</td>\n",
       "    </tr>\n",
       "    <tr>\n",
       "      <th>38</th>\n",
       "      <td>Age_65+</td>\n",
       "      <td>0.001189</td>\n",
       "    </tr>\n",
       "    <tr>\n",
       "      <th>39</th>\n",
       "      <td>Ethn_Mixed-Black/Asian</td>\n",
       "      <td>0.000859</td>\n",
       "    </tr>\n",
       "    <tr>\n",
       "      <th>40</th>\n",
       "      <td>Ethn_Asian</td>\n",
       "      <td>0.000572</td>\n",
       "    </tr>\n",
       "    <tr>\n",
       "      <th>41</th>\n",
       "      <td>Cntry_NZ</td>\n",
       "      <td>0.000549</td>\n",
       "    </tr>\n",
       "  </tbody>\n",
       "</table>\n",
       "</div>"
      ],
      "text/plain": [
       "                   Feature  Importance\n",
       "37                   Semer    0.001872\n",
       "38                 Age_65+    0.001189\n",
       "39  Ethn_Mixed-Black/Asian    0.000859\n",
       "40              Ethn_Asian    0.000572\n",
       "41                Cntry_NZ    0.000549"
      ]
     },
     "execution_count": 22,
     "metadata": {},
     "output_type": "execute_result"
    }
   ],
   "source": [
    "feat_heroinPl.tail()"
   ]
  },
  {
   "cell_type": "code",
   "execution_count": 23,
   "metadata": {
    "colab": {
     "base_uri": "https://localhost:8080/",
     "height": 206
    },
    "id": "s-f1G4nGkyT4",
    "outputId": "a7645713-581b-44c0-f5c8-e05ead2752f1"
   },
   "outputs": [
    {
     "data": {
      "text/html": [
       "<div>\n",
       "<style scoped>\n",
       "    .dataframe tbody tr th:only-of-type {\n",
       "        vertical-align: middle;\n",
       "    }\n",
       "\n",
       "    .dataframe tbody tr th {\n",
       "        vertical-align: top;\n",
       "    }\n",
       "\n",
       "    .dataframe thead th {\n",
       "        text-align: right;\n",
       "    }\n",
       "</style>\n",
       "<table border=\"1\" class=\"dataframe\">\n",
       "  <thead>\n",
       "    <tr style=\"text-align: right;\">\n",
       "      <th></th>\n",
       "      <th>Feature</th>\n",
       "      <th>Importance</th>\n",
       "    </tr>\n",
       "  </thead>\n",
       "  <tbody>\n",
       "    <tr>\n",
       "      <th>37</th>\n",
       "      <td>Cntry_NZ</td>\n",
       "      <td>2.267268e-04</td>\n",
       "    </tr>\n",
       "    <tr>\n",
       "      <th>38</th>\n",
       "      <td>Cntry_IRE</td>\n",
       "      <td>2.079371e-04</td>\n",
       "    </tr>\n",
       "    <tr>\n",
       "      <th>39</th>\n",
       "      <td>Ethn_Asian</td>\n",
       "      <td>8.288388e-07</td>\n",
       "    </tr>\n",
       "    <tr>\n",
       "      <th>40</th>\n",
       "      <td>Semer</td>\n",
       "      <td>0.000000e+00</td>\n",
       "    </tr>\n",
       "    <tr>\n",
       "      <th>41</th>\n",
       "      <td>Ethn_Mixed-Black/Asian</td>\n",
       "      <td>0.000000e+00</td>\n",
       "    </tr>\n",
       "  </tbody>\n",
       "</table>\n",
       "</div>"
      ],
      "text/plain": [
       "                   Feature    Importance\n",
       "37                Cntry_NZ  2.267268e-04\n",
       "38               Cntry_IRE  2.079371e-04\n",
       "39              Ethn_Asian  8.288388e-07\n",
       "40                   Semer  0.000000e+00\n",
       "41  Ethn_Mixed-Black/Asian  0.000000e+00"
      ]
     },
     "execution_count": 23,
     "metadata": {},
     "output_type": "execute_result"
    }
   ],
   "source": [
    "feat_ecstasyPl.tail()"
   ]
  },
  {
   "cell_type": "code",
   "execution_count": 24,
   "metadata": {
    "colab": {
     "base_uri": "https://localhost:8080/",
     "height": 206
    },
    "id": "3q1cbrHNk77E",
    "outputId": "134ecdf3-c6a7-4171-f5fd-35ddd6119d52"
   },
   "outputs": [
    {
     "data": {
      "text/html": [
       "<div>\n",
       "<style scoped>\n",
       "    .dataframe tbody tr th:only-of-type {\n",
       "        vertical-align: middle;\n",
       "    }\n",
       "\n",
       "    .dataframe tbody tr th {\n",
       "        vertical-align: top;\n",
       "    }\n",
       "\n",
       "    .dataframe thead th {\n",
       "        text-align: right;\n",
       "    }\n",
       "</style>\n",
       "<table border=\"1\" class=\"dataframe\">\n",
       "  <thead>\n",
       "    <tr style=\"text-align: right;\">\n",
       "      <th></th>\n",
       "      <th>Feature</th>\n",
       "      <th>Importance</th>\n",
       "    </tr>\n",
       "  </thead>\n",
       "  <tbody>\n",
       "    <tr>\n",
       "      <th>37</th>\n",
       "      <td>Age_65+</td>\n",
       "      <td>0.001220</td>\n",
       "    </tr>\n",
       "    <tr>\n",
       "      <th>38</th>\n",
       "      <td>Ethn_Black</td>\n",
       "      <td>0.001135</td>\n",
       "    </tr>\n",
       "    <tr>\n",
       "      <th>39</th>\n",
       "      <td>Cntry_NZ</td>\n",
       "      <td>0.000953</td>\n",
       "    </tr>\n",
       "    <tr>\n",
       "      <th>40</th>\n",
       "      <td>Ethn_Asian</td>\n",
       "      <td>0.000819</td>\n",
       "    </tr>\n",
       "    <tr>\n",
       "      <th>41</th>\n",
       "      <td>Semer</td>\n",
       "      <td>0.000416</td>\n",
       "    </tr>\n",
       "  </tbody>\n",
       "</table>\n",
       "</div>"
      ],
      "text/plain": [
       "       Feature  Importance\n",
       "37     Age_65+    0.001220\n",
       "38  Ethn_Black    0.001135\n",
       "39    Cntry_NZ    0.000953\n",
       "40  Ethn_Asian    0.000819\n",
       "41       Semer    0.000416"
      ]
     },
     "execution_count": 24,
     "metadata": {},
     "output_type": "execute_result"
    }
   ],
   "source": [
    "feat_benzoPl.tail()"
   ]
  },
  {
   "cell_type": "code",
   "execution_count": 25,
   "metadata": {
    "id": "6OY-DXDqldLM"
   },
   "outputs": [],
   "source": [
    "# Удаляем столбцы 'Semer', 'Ethn_Mixed-Black/Asian', 'Ethn_Mixed-White/Black', 'Ethn_Black'\n",
    "x_train, x_test, y_train, y_test = train_test_split(multi_train.drop(['Semer', 'Ethn_Mixed-Black/Asian', 'Ethn_Mixed-White/Black', 'Ethn_Black'], axis=1),\\\n",
    "                                                    y, test_size=.2, random_state=13)"
   ]
  },
  {
   "cell_type": "code",
   "execution_count": 26,
   "metadata": {
    "colab": {
     "base_uri": "https://localhost:8080/"
    },
    "id": "0Scj8dGWpINt",
    "outputId": "b4909df2-8a5f-438d-d94f-dba12262c2e1"
   },
   "outputs": [
    {
     "data": {
      "text/plain": [
       "array([0.64928018, 0.87573099, 0.63807339])"
      ]
     },
     "execution_count": 26,
     "metadata": {},
     "output_type": "execute_result"
    }
   ],
   "source": [
    "# Обучаем завново модель и считаем roc-auc\n",
    "model = MultiOutputClassifier(RandomForestClassifier())\n",
    "model.fit(x_train, y_train)\n",
    "y_pred = np.transpose([pred[:, 1] for pred in model.predict_proba(x_test)])\n",
    "roc_auc_score(y_test, y_pred, average=None)"
   ]
  },
  {
   "cell_type": "markdown",
   "metadata": {
    "id": "crB2x0F5cG6q"
   },
   "source": [
    "Получаем 3 ROC-AUC значения для каждой метки свой."
   ]
  },
  {
   "cell_type": "markdown",
   "metadata": {
    "id": "oOFlGNktvWnb"
   },
   "source": [
    "## Обучение моделей для MultiLabel классификатора"
   ]
  },
  {
   "cell_type": "code",
   "execution_count": 27,
   "metadata": {
    "colab": {
     "base_uri": "https://localhost:8080/"
    },
    "id": "-l4uS9dLtvFl",
    "outputId": "b086e322-4364-46f6-9b82-7456543d6ae5"
   },
   "outputs": [
    {
     "name": "stdout",
     "output_type": "stream",
     "text": [
      "model: MultiOutputClassifier(estimator=RandomForestClassifier()) \n",
      "roc-auc: [0.63803987 0.75087719 0.64169215] \n",
      "\n",
      "model: MultiOutputClassifier(estimator=LGBMClassifier()) \n",
      "roc-auc: [0.59723145 0.80584795 0.62711519] \n",
      "\n",
      "model: MultiOutputClassifier(estimator=<catboost.core.CatBoostClassifier object at 0x7f7999e72ca0>) \n",
      "roc-auc: [0.63023256 0.89415205 0.66167176] \n",
      "\n"
     ]
    }
   ],
   "source": [
    "# Смотрим на roc-auc без настроки моделей\n",
    "classifiers = [\n",
    "    MultiOutputClassifier(RandomForestClassifier()),\n",
    "    MultiOutputClassifier(LGBMClassifier()),\n",
    "    MultiOutputClassifier(CatBoostClassifier(verbose=False))\n",
    "    ]\n",
    "\n",
    "for classifier in classifiers:\n",
    "    steps = [\n",
    "        ('clf', classifier),\n",
    "    ]\n",
    "    pipeline = Pipeline(steps)\n",
    "    pipeline.fit(x_train, y_train)\n",
    "    y_pred = np.transpose([pred[:, 1] for pred in pipeline.predict_proba(x_test)])\n",
    "    print('model:', classifier, '\\nroc-auc: {} \\n'.format(roc_auc_score(y_test, y_pred, average=None)))"
   ]
  },
  {
   "cell_type": "markdown",
   "metadata": {
    "id": "F3gbWWP1skAv"
   },
   "source": [
    "## **Random Forest**"
   ]
  },
  {
   "cell_type": "code",
   "execution_count": 28,
   "metadata": {
    "id": "cyl2yf5dGsl-"
   },
   "outputs": [
    {
     "name": "stdout",
     "output_type": "stream",
     "text": [
      "CPU times: user 5.34 s, sys: 297 ms, total: 5.64 s\n",
      "Wall time: 3min 45s\n"
     ]
    }
   ],
   "source": [
    "%%time\n",
    "params = {\n",
    "          'n_estimators': range(31, 255, 16),\n",
    "          'min_samples_split': [4,5,6],\n",
    "          'max_depth': [50, 60]\n",
    "         }\n",
    "         \n",
    "multi_rf = model_grid(RandomForestClassifier(), params, x_train, y_train, scoring='roc_auc', multi_label=True)"
   ]
  },
  {
   "cell_type": "code",
   "execution_count": 29,
   "metadata": {
    "colab": {
     "base_uri": "https://localhost:8080/"
    },
    "id": "32GwbmOTtQ1K",
    "outputId": "44753166-b963-4fc2-e8dc-4648abbfaefb"
   },
   "outputs": [
    {
     "data": {
      "text/plain": [
       "({'max_depth': 60, 'min_samples_split': 5, 'n_estimators': 127},\n",
       " {'max_depth': 50, 'min_samples_split': 6, 'n_estimators': 31},\n",
       " {'max_depth': 60, 'min_samples_split': 5, 'n_estimators': 127})"
      ]
     },
     "execution_count": 29,
     "metadata": {},
     "output_type": "execute_result"
    }
   ],
   "source": [
    "multi_rf.estimators_[0].best_params_,\\\n",
    "multi_rf.estimators_[1].best_params_,\\\n",
    "multi_rf.estimators_[2].best_params_"
   ]
  },
  {
   "cell_type": "code",
   "execution_count": 30,
   "metadata": {
    "colab": {
     "base_uri": "https://localhost:8080/"
    },
    "id": "OSUmFpV8ehNd",
    "outputId": "e2f8bbbe-a0af-4f7b-ef34-94bca21fbd2d"
   },
   "outputs": [
    {
     "data": {
      "text/plain": [
       "{'max_depth': 60, 'min_samples_split': 5, 'n_estimators': 127}"
      ]
     },
     "execution_count": 30,
     "metadata": {},
     "output_type": "execute_result"
    }
   ],
   "source": [
    "multi_rf.estimators_[0].best_params_"
   ]
  },
  {
   "cell_type": "code",
   "execution_count": 31,
   "metadata": {
    "colab": {
     "base_uri": "https://localhost:8080/"
    },
    "id": "6_IVCyJeuOFg",
    "outputId": "21ce7168-00ba-4ca1-8020-d042082001a0"
   },
   "outputs": [
    {
     "data": {
      "text/plain": [
       "array([0.64186047, 0.81169591, 0.65616718])"
      ]
     },
     "execution_count": 31,
     "metadata": {},
     "output_type": "execute_result"
    }
   ],
   "source": [
    "model_rf = MultiOutputClassifier(RandomForestClassifier(**multi_rf.estimators_[0].best_params_)).fit(x_train, y_train)\n",
    "y_pred = np.transpose([pred[:,1] for pred in model_rf.predict_proba(x_test)])\n",
    "roc_auc_score(y_test, y_pred, average=None)"
   ]
  },
  {
   "cell_type": "markdown",
   "metadata": {
    "id": "bHDUrmcIxewy"
   },
   "source": [
    "## **LGBM**"
   ]
  },
  {
   "cell_type": "code",
   "execution_count": 32,
   "metadata": {
    "id": "PGTscyv_uOK-",
    "scrolled": false
   },
   "outputs": [],
   "source": [
    "params = {\n",
    "    'max_depth': range(31, 64, 8),\n",
    "    'learning_rate': np.linspace(0.001, 0.05, 5),\n",
    "    'n_estimators': range(63, 255, 32),\n",
    "}\n",
    "\n",
    "multi_lgbm = model_grid(LGBMClassifier(), params, x_train, y_train, scoring='roc_auc', multi_label=True)"
   ]
  },
  {
   "cell_type": "code",
   "execution_count": 33,
   "metadata": {
    "colab": {
     "base_uri": "https://localhost:8080/"
    },
    "id": "SYQI4V5ouOQH",
    "outputId": "a2522beb-2aad-4c4b-b58f-2bedae71f7ef"
   },
   "outputs": [
    {
     "data": {
      "text/plain": [
       "({'learning_rate': 0.025500000000000002, 'max_depth': 31, 'n_estimators': 223},\n",
       " {'learning_rate': 0.013250000000000001, 'max_depth': 31, 'n_estimators': 95},\n",
       " {'learning_rate': 0.05, 'max_depth': 31, 'n_estimators': 95})"
      ]
     },
     "execution_count": 33,
     "metadata": {},
     "output_type": "execute_result"
    }
   ],
   "source": [
    "multi_lgbm.estimators_[0].best_params_,\\\n",
    "multi_lgbm.estimators_[1].best_params_,\\\n",
    "multi_lgbm.estimators_[2].best_params_"
   ]
  },
  {
   "cell_type": "code",
   "execution_count": 34,
   "metadata": {
    "colab": {
     "base_uri": "https://localhost:8080/"
    },
    "id": "PX3hZRGi2kfm",
    "outputId": "47ee5130-0c0a-473d-f4b4-854e376782d0"
   },
   "outputs": [
    {
     "data": {
      "text/plain": [
       "array([0.59878184, 0.83274854, 0.63802243])"
      ]
     },
     "execution_count": 34,
     "metadata": {},
     "output_type": "execute_result"
    }
   ],
   "source": [
    "lgbm = MultiOutputClassifier(LGBMClassifier(**multi_lgbm.estimators_[1].best_params_)).fit(x_train, y_train)\n",
    "y_pred = np.transpose([pred[:,1] for pred in lgbm.predict_proba(x_test)])\n",
    "roc_auc_score(y_test, y_pred, average=None)"
   ]
  },
  {
   "cell_type": "markdown",
   "metadata": {
    "id": "NxZKz5dj6jcy"
   },
   "source": [
    "## **Catboost**"
   ]
  },
  {
   "cell_type": "code",
   "execution_count": 35,
   "metadata": {
    "id": "jFwlVpv_2kZg"
   },
   "outputs": [],
   "source": [
    "params = {\n",
    "    'iterations': range(400, 1300, 400),\n",
    "    'depth': range(4, 11, 2)\n",
    "}\n",
    "\n",
    "multi_cat = model_grid(CatBoostClassifier(verbose=False), params, x_train, y_train, scoring='roc_auc', multi_label=True)"
   ]
  },
  {
   "cell_type": "code",
   "execution_count": 36,
   "metadata": {
    "colab": {
     "base_uri": "https://localhost:8080/"
    },
    "id": "REmD8UiS7uCK",
    "outputId": "d28d7f8a-f530-4d62-9a80-eef337f197a1"
   },
   "outputs": [
    {
     "data": {
      "text/plain": [
       "({'depth': 8, 'iterations': 1200},\n",
       " {'depth': 4, 'iterations': 1200},\n",
       " {'depth': 10, 'iterations': 400})"
      ]
     },
     "execution_count": 36,
     "metadata": {},
     "output_type": "execute_result"
    }
   ],
   "source": [
    "multi_cat.estimators_[0].best_params_,\\\n",
    "multi_cat.estimators_[1].best_params_,\\\n",
    "multi_cat.estimators_[2].best_params_"
   ]
  },
  {
   "cell_type": "code",
   "execution_count": 37,
   "metadata": {
    "colab": {
     "base_uri": "https://localhost:8080/"
    },
    "id": "L0qAy6NA7nwD",
    "outputId": "2a62fd0b-c88d-440f-e2f9-2773d5caeb00"
   },
   "outputs": [
    {
     "data": {
      "text/plain": [
       "array([0.62978959, 0.88538012, 0.64475025])"
      ]
     },
     "execution_count": 37,
     "metadata": {},
     "output_type": "execute_result"
    }
   ],
   "source": [
    "cat = MultiOutputClassifier(CatBoostClassifier(**multi_cat.estimators_[1].best_params_, verbose=False)).fit(x_train, y_train)\n",
    "y_pred = np.transpose([pred[:,1] for pred in cat.predict_proba(x_test)])\n",
    "roc_auc_score(y_test, y_pred, average=None)"
   ]
  },
  {
   "cell_type": "markdown",
   "metadata": {
    "id": "PzFkXachsH8x"
   },
   "source": [
    "## Cross-validation multi-label classifier"
   ]
  },
  {
   "cell_type": "markdown",
   "metadata": {
    "id": "Bj2rtxy0qqIM"
   },
   "source": [
    "Так как у целевой переменной содержится 3 метки.\n",
    "При попытке разбить на KFold выдается ошибка, что целевая переменная должна быть с одним измерением. Реализуем функцию, которая будет разбивать на фолды и возвращать значения полученных roc-auc."
   ]
  },
  {
   "cell_type": "code",
   "execution_count": 38,
   "metadata": {
    "colab": {
     "base_uri": "https://localhost:8080/"
    },
    "id": "huM7jA2ro60E",
    "outputId": "57fa390c-4c90-4f07-a9f3-b3c4336c0c6d"
   },
   "outputs": [
    {
     "data": {
      "text/plain": [
       "[array([0.60686234, 0.7       , 0.61651871]),\n",
       " array([0.61669759, 0.82698675, 0.71740506]),\n",
       " array([0.62331081, 0.68058968, 0.63904762]),\n",
       " array([0.5929557 , 0.76490066, 0.67575758]),\n",
       " array([0.66330275, 0.44880174, 0.66455696])]"
      ]
     },
     "execution_count": 38,
     "metadata": {},
     "output_type": "execute_result"
    }
   ],
   "source": [
    "cross_val_multilabel(multi_rf, x_train, y_train, 5)"
   ]
  },
  {
   "cell_type": "code",
   "execution_count": 39,
   "metadata": {
    "colab": {
     "base_uri": "https://localhost:8080/"
    },
    "id": "GgAznG5-i5SJ",
    "outputId": "8f950972-e716-477a-94a8-ed45ace5ffcf"
   },
   "outputs": [
    {
     "data": {
      "text/plain": [
       "[array([0.58164531, 0.70649351, 0.64695625]),\n",
       " array([0.67643785, 0.8009106 , 0.67626582]),\n",
       " array([0.64977477, 0.64158477, 0.64222222]),\n",
       " array([0.61092956, 0.54304636, 0.65117845]),\n",
       " array([0.62972477, 0.5087146 , 0.62642405])]"
      ]
     },
     "execution_count": 39,
     "metadata": {},
     "output_type": "execute_result"
    }
   ],
   "source": [
    "cross_val_multilabel(multi_lgbm, x_train, y_train, 5)"
   ]
  },
  {
   "cell_type": "code",
   "execution_count": 40,
   "metadata": {
    "colab": {
     "base_uri": "https://localhost:8080/"
    },
    "id": "gSo95LzbJHIM",
    "outputId": "5db0d5a4-1c9f-43da-c6f0-507f52c95cd3"
   },
   "outputs": [
    {
     "data": {
      "text/plain": [
       "[array([0.59838776, 0.76493506, 0.61192137]),\n",
       " array([0.66252319, 0.7955298 , 0.71471519]),\n",
       " array([0.60660661, 0.71990172, 0.65412698]),\n",
       " array([0.61819172, 0.75331126, 0.64292929]),\n",
       " array([0.69688073, 0.52287582, 0.64636076])]"
      ]
     },
     "execution_count": 40,
     "metadata": {},
     "output_type": "execute_result"
    }
   ],
   "source": [
    "cross_val_multilabel(multi_cat, x_train, y_train, 5)"
   ]
  },
  {
   "cell_type": "markdown",
   "metadata": {
    "id": "4NvLU2vVClDL"
   },
   "source": [
    "Можем сделать вывод, что методы основанные на град.бустиге дают значительно высокий результат."
   ]
  }
 ],
 "metadata": {
  "colab": {
   "collapsed_sections": [
    "kLSq6XnrqJhU",
    "oOFlGNktvWnb",
    "F3gbWWP1skAv",
    "bHDUrmcIxewy",
    "NxZKz5dj6jcy"
   ],
   "name": "Multilabel classification.ipynb",
   "provenance": []
  },
  "kernelspec": {
   "display_name": "Python 3 (ipykernel)",
   "language": "python",
   "name": "python3"
  },
  "language_info": {
   "codemirror_mode": {
    "name": "ipython",
    "version": 3
   },
   "file_extension": ".py",
   "mimetype": "text/x-python",
   "name": "python",
   "nbconvert_exporter": "python",
   "pygments_lexer": "ipython3",
   "version": "3.9.7"
  }
 },
 "nbformat": 4,
 "nbformat_minor": 1
}
